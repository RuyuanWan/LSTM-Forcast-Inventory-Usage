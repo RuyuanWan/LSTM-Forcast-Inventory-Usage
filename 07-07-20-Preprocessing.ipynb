{
 "cells": [
  {
   "cell_type": "code",
   "execution_count": 69,
   "metadata": {},
   "outputs": [],
   "source": [
    "import pandas as pd\n",
    "import numpy as np\n",
    "import matplotlib.pyplot as plt\n",
    "from sklearn.cluster import KMeans\n",
    "from sklearn.datasets import make_blobs\n",
    "from sklearn.cluster import DBSCAN\n",
    "from sklearn import metrics\n",
    "from sklearn.preprocessing import StandardScaler"
   ]
  },
  {
   "cell_type": "code",
   "execution_count": 149,
   "metadata": {},
   "outputs": [],
   "source": [
    "gateway = pd.read_csv('C:/Users/wanru/OneDrive - Ecolab/Desktop/tlm_analysis/data/raw/06_30_2020_tank_gateway_data_for_WH102_and_WL146.csv')\n",
    "controller = pd.read_csv('C:/Users/wanru/OneDrive - Ecolab/Desktop/tlm_analysis/data/raw/06_30_2020_tank_controller_data_for_WH102_and_WL146.csv')\n",
    "facility = pd.read_csv('C:/Users/wanru/OneDrive - Ecolab/Desktop/tlm_analysis/data/raw/06_30_2020_tank_facility_data_for_WH102_and_WL146.csv')\n"
   ]
  },
  {
   "cell_type": "code",
   "execution_count": 4,
   "metadata": {},
   "outputs": [
    {
     "data": {
      "text/html": [
       "<div>\n",
       "<style scoped>\n",
       "    .dataframe tbody tr th:only-of-type {\n",
       "        vertical-align: middle;\n",
       "    }\n",
       "\n",
       "    .dataframe tbody tr th {\n",
       "        vertical-align: top;\n",
       "    }\n",
       "\n",
       "    .dataframe thead th {\n",
       "        text-align: right;\n",
       "    }\n",
       "</style>\n",
       "<table border=\"1\" class=\"dataframe\">\n",
       "  <thead>\n",
       "    <tr style=\"text-align: right;\">\n",
       "      <th></th>\n",
       "      <th>TankID</th>\n",
       "      <th>MeasurementDate</th>\n",
       "      <th>Value</th>\n",
       "    </tr>\n",
       "  </thead>\n",
       "  <tbody>\n",
       "    <tr>\n",
       "      <th>0</th>\n",
       "      <td>1282</td>\n",
       "      <td>2018-05-13</td>\n",
       "      <td>8.129432</td>\n",
       "    </tr>\n",
       "    <tr>\n",
       "      <th>1</th>\n",
       "      <td>1282</td>\n",
       "      <td>2018-05-14</td>\n",
       "      <td>7.796567</td>\n",
       "    </tr>\n",
       "    <tr>\n",
       "      <th>2</th>\n",
       "      <td>1282</td>\n",
       "      <td>2018-05-15</td>\n",
       "      <td>7.796567</td>\n",
       "    </tr>\n",
       "    <tr>\n",
       "      <th>3</th>\n",
       "      <td>1282</td>\n",
       "      <td>2018-05-16</td>\n",
       "      <td>7.685612</td>\n",
       "    </tr>\n",
       "    <tr>\n",
       "      <th>4</th>\n",
       "      <td>1282</td>\n",
       "      <td>2018-05-17</td>\n",
       "      <td>24.402829</td>\n",
       "    </tr>\n",
       "  </tbody>\n",
       "</table>\n",
       "</div>"
      ],
      "text/plain": [
       "   TankID MeasurementDate      Value\n",
       "0    1282      2018-05-13   8.129432\n",
       "1    1282      2018-05-14   7.796567\n",
       "2    1282      2018-05-15   7.796567\n",
       "3    1282      2018-05-16   7.685612\n",
       "4    1282      2018-05-17  24.402829"
      ]
     },
     "execution_count": 4,
     "metadata": {},
     "output_type": "execute_result"
    }
   ],
   "source": [
    "gateway.head()"
   ]
  },
  {
   "cell_type": "code",
   "execution_count": 52,
   "metadata": {},
   "outputs": [
    {
     "data": {
      "text/html": [
       "<div>\n",
       "<style scoped>\n",
       "    .dataframe tbody tr th:only-of-type {\n",
       "        vertical-align: middle;\n",
       "    }\n",
       "\n",
       "    .dataframe tbody tr th {\n",
       "        vertical-align: top;\n",
       "    }\n",
       "\n",
       "    .dataframe thead th {\n",
       "        text-align: right;\n",
       "    }\n",
       "</style>\n",
       "<table border=\"1\" class=\"dataframe\">\n",
       "  <thead>\n",
       "    <tr style=\"text-align: right;\">\n",
       "      <th></th>\n",
       "      <th>TankID</th>\n",
       "      <th>MeasurementDate</th>\n",
       "      <th>MinValue</th>\n",
       "      <th>Negative</th>\n",
       "      <th>Duration</th>\n",
       "    </tr>\n",
       "  </thead>\n",
       "  <tbody>\n",
       "    <tr>\n",
       "      <th>0</th>\n",
       "      <td>1282</td>\n",
       "      <td>2018-05-13</td>\n",
       "      <td>4.849024</td>\n",
       "      <td>0</td>\n",
       "      <td>0</td>\n",
       "    </tr>\n",
       "    <tr>\n",
       "      <th>1</th>\n",
       "      <td>4729</td>\n",
       "      <td>2018-05-13</td>\n",
       "      <td>-128.507985</td>\n",
       "      <td>1</td>\n",
       "      <td>97</td>\n",
       "    </tr>\n",
       "    <tr>\n",
       "      <th>2</th>\n",
       "      <td>4730</td>\n",
       "      <td>2018-05-13</td>\n",
       "      <td>20.427499</td>\n",
       "      <td>0</td>\n",
       "      <td>0</td>\n",
       "    </tr>\n",
       "    <tr>\n",
       "      <th>3</th>\n",
       "      <td>4731</td>\n",
       "      <td>2018-05-13</td>\n",
       "      <td>-0.977248</td>\n",
       "      <td>1</td>\n",
       "      <td>1</td>\n",
       "    </tr>\n",
       "    <tr>\n",
       "      <th>4</th>\n",
       "      <td>4732</td>\n",
       "      <td>2018-05-13</td>\n",
       "      <td>19.099312</td>\n",
       "      <td>0</td>\n",
       "      <td>0</td>\n",
       "    </tr>\n",
       "  </tbody>\n",
       "</table>\n",
       "</div>"
      ],
      "text/plain": [
       "   TankID MeasurementDate    MinValue  Negative  Duration\n",
       "0    1282      2018-05-13    4.849024         0         0\n",
       "1    4729      2018-05-13 -128.507985         1        97\n",
       "2    4730      2018-05-13   20.427499         0         0\n",
       "3    4731      2018-05-13   -0.977248         1         1\n",
       "4    4732      2018-05-13   19.099312         0         0"
      ]
     },
     "execution_count": 52,
     "metadata": {},
     "output_type": "execute_result"
    }
   ],
   "source": [
    "gt_features = gateway.groupby('TankID', as_index=False).min()\n",
    "gt_features = gt_features.rename(columns={\"TankID\": \"TankID\", \"Value\": \"MinValue\"})\n",
    "gt_features['Negative'] = gt_features.MinValue.apply(lambda x: 1 if x <0 else 0)\n",
    "gt_features['Duration'] = gateway.groupby('TankID',as_index = False)['Value'].apply(lambda x: (x<0).sum())\n",
    "gt_features.head()"
   ]
  },
  {
   "cell_type": "code",
   "execution_count": 57,
   "metadata": {},
   "outputs": [
    {
     "data": {
      "text/html": [
       "<div>\n",
       "<style scoped>\n",
       "    .dataframe tbody tr th:only-of-type {\n",
       "        vertical-align: middle;\n",
       "    }\n",
       "\n",
       "    .dataframe tbody tr th {\n",
       "        vertical-align: top;\n",
       "    }\n",
       "\n",
       "    .dataframe thead th {\n",
       "        text-align: right;\n",
       "    }\n",
       "</style>\n",
       "<table border=\"1\" class=\"dataframe\">\n",
       "  <thead>\n",
       "    <tr style=\"text-align: right;\">\n",
       "      <th></th>\n",
       "      <th>TankID</th>\n",
       "      <th>MeasurementDate</th>\n",
       "      <th>MinValue</th>\n",
       "      <th>Negative</th>\n",
       "      <th>Duration</th>\n",
       "    </tr>\n",
       "  </thead>\n",
       "  <tbody>\n",
       "    <tr>\n",
       "      <th>0</th>\n",
       "      <td>30850</td>\n",
       "      <td>2018-05-13</td>\n",
       "      <td>0.000000</td>\n",
       "      <td>0</td>\n",
       "      <td>0</td>\n",
       "    </tr>\n",
       "    <tr>\n",
       "      <th>1</th>\n",
       "      <td>30851</td>\n",
       "      <td>2018-07-23</td>\n",
       "      <td>0.000000</td>\n",
       "      <td>0</td>\n",
       "      <td>0</td>\n",
       "    </tr>\n",
       "    <tr>\n",
       "      <th>2</th>\n",
       "      <td>30852</td>\n",
       "      <td>2018-05-13</td>\n",
       "      <td>0.000000</td>\n",
       "      <td>0</td>\n",
       "      <td>0</td>\n",
       "    </tr>\n",
       "    <tr>\n",
       "      <th>3</th>\n",
       "      <td>34507</td>\n",
       "      <td>2018-05-13</td>\n",
       "      <td>4.300286</td>\n",
       "      <td>0</td>\n",
       "      <td>0</td>\n",
       "    </tr>\n",
       "    <tr>\n",
       "      <th>4</th>\n",
       "      <td>34508</td>\n",
       "      <td>2018-05-13</td>\n",
       "      <td>6.136925</td>\n",
       "      <td>0</td>\n",
       "      <td>0</td>\n",
       "    </tr>\n",
       "  </tbody>\n",
       "</table>\n",
       "</div>"
      ],
      "text/plain": [
       "   TankID MeasurementDate  MinValue  Negative  Duration\n",
       "0   30850      2018-05-13  0.000000         0         0\n",
       "1   30851      2018-07-23  0.000000         0         0\n",
       "2   30852      2018-05-13  0.000000         0         0\n",
       "3   34507      2018-05-13  4.300286         0         0\n",
       "4   34508      2018-05-13  6.136925         0         0"
      ]
     },
     "execution_count": 57,
     "metadata": {},
     "output_type": "execute_result"
    }
   ],
   "source": [
    "ct_features = controller.groupby('TankID', as_index=False).min()\n",
    "ct_features = ct_features.rename(columns={\"TankID\": \"TankID\", \"Value\": \"MinValue\"})\n",
    "ct_features['Negative'] = ct_features.MinValue.apply(lambda x: 1 if x <0 else 0)\n",
    "ct_features['Duration'] = controller.groupby('TankID',as_index = False)['Value'].apply(lambda x: (x<0).sum())\n",
    "ct_features.head()"
   ]
  },
  {
   "cell_type": "code",
   "execution_count": 134,
   "metadata": {},
   "outputs": [
    {
     "name": "stdout",
     "output_type": "stream",
     "text": [
      "     TankID MeasurementDate     MinValue  Negative  Duration\n",
      "8      5270      2018-05-13   -73.481110         1       182\n",
      "19     9922      2018-05-13   -92.855394         1       185\n",
      "30    10982      2018-05-13    -1.294918         1       207\n",
      "33    10996      2018-05-13   -85.538032         1       132\n",
      "34    10998      2018-05-13   -34.680101         1       589\n",
      "35    11027      2018-05-13  -114.721525         1       741\n",
      "37    11029      2018-05-13  -127.011525         1       741\n",
      "38    11030      2018-05-13   -97.300340         1       741\n",
      "39    11320      2018-07-02 -1075.916271         1       101\n",
      "40    11357      2018-05-13   -80.583052         1       688\n",
      "41    11473      2018-05-13  -109.221932         1       129\n",
      "44    11908      2018-05-13  -192.387790         1       119\n",
      "53    12201      2018-05-13   -95.577647         1       302\n",
      "61    12793      2018-05-13  -290.920994         1       155\n",
      "62    12794      2018-05-13  -285.160239         1       123\n",
      "63    12817      2018-05-13    -9.426143         1       191\n",
      "73    13361      2018-05-13   -93.436686         1       171\n",
      "76    13827      2018-05-13   -94.796282         1       266\n",
      "78    13843      2018-07-10   -92.085570         1       145\n",
      "85    23697      2018-05-14    -0.831959         1       237\n",
      "91    32564      2018-05-13   -93.448748         1       480\n",
      "92    32568      2018-05-13   -95.601248         1       468\n",
      "93    32569      2018-05-13   -94.719848         1       468\n",
      "97    41100      2018-05-13   -62.276132         1       135\n",
      "99    42619      2019-08-19   -52.574031         1       294\n",
      "112  179011      2018-05-13  -637.650535         1       223\n",
      "114  180905      2018-05-13   -94.093000         1       227\n",
      "121  181893      2018-05-13  -506.752558         1       425\n",
      "142  225687      2018-05-13   -70.487585         1       267\n",
      "145  225878      2018-08-06  -308.418619         1       344\n",
      "150  296791      2018-05-13   -10.144024         1       151\n",
      "151  296795      2018-05-13   -48.592399         1       357\n",
      "152  297799      2018-05-13  -274.989382         1       493\n",
      "157  299822      2018-05-13  -111.008025         1       162\n",
      "160  300343      2018-12-04   -48.395159         1       534\n",
      "167  375009      2018-05-13   -36.953012         1       286\n",
      "173  387475      2019-01-29  -152.608001         1       118\n"
     ]
    }
   ],
   "source": [
    "print(gt_features[gt_features['Duration']>100])"
   ]
  },
  {
   "cell_type": "code",
   "execution_count": 135,
   "metadata": {},
   "outputs": [
    {
     "data": {
      "text/plain": [
       "Text(0.5, 1.0, 'clustering gateway tanks')"
      ]
     },
     "execution_count": 135,
     "metadata": {},
     "output_type": "execute_result"
    },
    {
     "data": {
      "image/png": "[encoded data removed]",
      "text/plain": [
       "<Figure size 432x288 with 1 Axes>"
      ]
     },
     "metadata": {
      "needs_background": "light"
     },
     "output_type": "display_data"
    }
   ],
   "source": [
    "random_state = 20\n",
    "y_pred = KMeans(n_clusters=7, random_state=random_state).fit_predict(gt_features[['MinValue','Duration']])\n",
    "plt.scatter(gt_features.MinValue,gt_features.Duration,c=y_pred)\n",
    "plt.xlabel(\"Minimum Value\")\n",
    "plt.ylabel(\"Duration (by day)\")\n",
    "plt.title(\"clustering gateway tanks\")\n",
    "#Exclude: 11027,11029,11030  (Value didn't change)\n",
    "# min (-100,), duration <100"
   ]
  },
  {
   "cell_type": "code",
   "execution_count": 131,
   "metadata": {},
   "outputs": [
    {
     "data": {
      "text/plain": [
       "Text(0.5, 1.0, 'clustering gateway tanks')"
      ]
     },
     "execution_count": 131,
     "metadata": {},
     "output_type": "execute_result"
    },
    {
     "data": {
      "image/png": "[encoded data removed]",
      "text/plain": [
       "<Figure size 432x288 with 1 Axes>"
      ]
     },
     "metadata": {
      "needs_background": "light"
     },
     "output_type": "display_data"
    }
   ],
   "source": [
    "X = gt_features[['MinValue','Duration']]\n",
    "scaler = StandardScaler()\n",
    "X_scaled = scaler.fit_transform(X)\n",
    "dbscan = DBSCAN(eps=0.8, min_samples = 3)\n",
    "clusters = dbscan.fit_predict(X_scaled)\n",
    "# plot the cluster assignments\n",
    "plt.scatter(gt_features.MinValue,gt_features.Duration, c=clusters,cmap=\"plasma\")\n",
    "plt.xlabel(\"Minimum Value\")\n",
    "plt.ylabel(\"Duration (by day)\")\n",
    "plt.title(\"clustering gateway tanks\")"
   ]
  },
  {
   "cell_type": "code",
   "execution_count": 103,
   "metadata": {},
   "outputs": [
    {
     "data": {
      "text/plain": [
       "Text(0.5, 1.0, 'clustering controller tanks')"
      ]
     },
     "execution_count": 103,
     "metadata": {},
     "output_type": "execute_result"
    },
    {
     "data": {
      "image/png": "[encoded data removed]",
      "text/plain": [
       "<Figure size 432x288 with 1 Axes>"
      ]
     },
     "metadata": {
      "needs_background": "light"
     },
     "output_type": "display_data"
    }
   ],
   "source": [
    "random_state = 10\n",
    "y_pred = KMeans(n_clusters=3, random_state=random_state).fit_predict(ct_features[['MinValue','Duration']])\n",
    "plt.scatter(ct_features.MinValue,ct_features.Duration,c=y_pred)\n",
    "plt.xlabel(\"Minimum Value\")\n",
    "plt.ylabel(\"Duration (by day)\")\n",
    "plt.title(\"clustering controller tanks\")\n",
    "#containing negative value: \n",
    "#40284 40886 179925 223294 223295 223299 223301 224328 224726 227513 228669 228670 301187 301752 301753 374311 374543 387131 \n",
    "\n",
    "# MIN > -25"
   ]
  },
  {
   "cell_type": "code",
   "execution_count": 129,
   "metadata": {},
   "outputs": [
    {
     "data": {
      "text/plain": [
       "Text(0.5, 1.0, 'clustering controller tanks')"
      ]
     },
     "execution_count": 129,
     "metadata": {},
     "output_type": "execute_result"
    },
    {
     "data": {
      "image/png": "[encoded data removed]",
      "text/plain": [
       "<Figure size 432x288 with 1 Axes>"
      ]
     },
     "metadata": {
      "needs_background": "light"
     },
     "output_type": "display_data"
    }
   ],
   "source": [
    "X = ct_features[['MinValue','Duration']]\n",
    "scaler = StandardScaler()\n",
    "X_scaled = scaler.fit_transform(X)\n",
    "dbscan = DBSCAN(eps=1, min_samples = 3)\n",
    "clusters = dbscan.fit_predict(X_scaled)\n",
    "# plot the cluster assignments\n",
    "plt.scatter(ct_features.MinValue,ct_features.Duration, c=clusters,cmap=\"plasma\")\n",
    "plt.xlabel(\"Minimum Value\")\n",
    "plt.ylabel(\"Duration (by day)\")\n",
    "plt.title(\"clustering controller tanks\")"
   ]
  },
  {
   "cell_type": "code",
   "execution_count": 136,
   "metadata": {},
   "outputs": [
    {
     "data": {
      "text/html": [
       "<div>\n",
       "<style scoped>\n",
       "    .dataframe tbody tr th:only-of-type {\n",
       "        vertical-align: middle;\n",
       "    }\n",
       "\n",
       "    .dataframe tbody tr th {\n",
       "        vertical-align: top;\n",
       "    }\n",
       "\n",
       "    .dataframe thead th {\n",
       "        text-align: right;\n",
       "    }\n",
       "</style>\n",
       "<table border=\"1\" class=\"dataframe\">\n",
       "  <thead>\n",
       "    <tr style=\"text-align: right;\">\n",
       "      <th></th>\n",
       "      <th>TankID</th>\n",
       "      <th>MeasurementDate</th>\n",
       "      <th>MinValue</th>\n",
       "      <th>Negative</th>\n",
       "      <th>Duration</th>\n",
       "    </tr>\n",
       "  </thead>\n",
       "  <tbody>\n",
       "    <tr>\n",
       "      <th>0</th>\n",
       "      <td>1282</td>\n",
       "      <td>2018-05-13</td>\n",
       "      <td>4.849024</td>\n",
       "      <td>0</td>\n",
       "      <td>0</td>\n",
       "    </tr>\n",
       "    <tr>\n",
       "      <th>2</th>\n",
       "      <td>4730</td>\n",
       "      <td>2018-05-13</td>\n",
       "      <td>20.427499</td>\n",
       "      <td>0</td>\n",
       "      <td>0</td>\n",
       "    </tr>\n",
       "    <tr>\n",
       "      <th>3</th>\n",
       "      <td>4731</td>\n",
       "      <td>2018-05-13</td>\n",
       "      <td>-0.977248</td>\n",
       "      <td>1</td>\n",
       "      <td>1</td>\n",
       "    </tr>\n",
       "    <tr>\n",
       "      <th>4</th>\n",
       "      <td>4732</td>\n",
       "      <td>2018-05-13</td>\n",
       "      <td>19.099312</td>\n",
       "      <td>0</td>\n",
       "      <td>0</td>\n",
       "    </tr>\n",
       "    <tr>\n",
       "      <th>5</th>\n",
       "      <td>4733</td>\n",
       "      <td>2018-05-13</td>\n",
       "      <td>-93.370810</td>\n",
       "      <td>1</td>\n",
       "      <td>19</td>\n",
       "    </tr>\n",
       "    <tr>\n",
       "      <th>...</th>\n",
       "      <td>...</td>\n",
       "      <td>...</td>\n",
       "      <td>...</td>\n",
       "      <td>...</td>\n",
       "      <td>...</td>\n",
       "    </tr>\n",
       "    <tr>\n",
       "      <th>168</th>\n",
       "      <td>375013</td>\n",
       "      <td>2018-05-13</td>\n",
       "      <td>51.223663</td>\n",
       "      <td>0</td>\n",
       "      <td>0</td>\n",
       "    </tr>\n",
       "    <tr>\n",
       "      <th>169</th>\n",
       "      <td>375414</td>\n",
       "      <td>2018-05-13</td>\n",
       "      <td>5.134634</td>\n",
       "      <td>0</td>\n",
       "      <td>0</td>\n",
       "    </tr>\n",
       "    <tr>\n",
       "      <th>170</th>\n",
       "      <td>386783</td>\n",
       "      <td>2020-01-07</td>\n",
       "      <td>0.277373</td>\n",
       "      <td>0</td>\n",
       "      <td>0</td>\n",
       "    </tr>\n",
       "    <tr>\n",
       "      <th>171</th>\n",
       "      <td>387170</td>\n",
       "      <td>2019-03-21</td>\n",
       "      <td>-86.650540</td>\n",
       "      <td>1</td>\n",
       "      <td>83</td>\n",
       "    </tr>\n",
       "    <tr>\n",
       "      <th>174</th>\n",
       "      <td>543273</td>\n",
       "      <td>2018-05-13</td>\n",
       "      <td>-57.178070</td>\n",
       "      <td>1</td>\n",
       "      <td>9</td>\n",
       "    </tr>\n",
       "  </tbody>\n",
       "</table>\n",
       "<p>128 rows × 5 columns</p>\n",
       "</div>"
      ],
      "text/plain": [
       "     TankID MeasurementDate   MinValue  Negative  Duration\n",
       "0      1282      2018-05-13   4.849024         0         0\n",
       "2      4730      2018-05-13  20.427499         0         0\n",
       "3      4731      2018-05-13  -0.977248         1         1\n",
       "4      4732      2018-05-13  19.099312         0         0\n",
       "5      4733      2018-05-13 -93.370810         1        19\n",
       "..      ...             ...        ...       ...       ...\n",
       "168  375013      2018-05-13  51.223663         0         0\n",
       "169  375414      2018-05-13   5.134634         0         0\n",
       "170  386783      2020-01-07   0.277373         0         0\n",
       "171  387170      2019-03-21 -86.650540         1        83\n",
       "174  543273      2018-05-13 -57.178070         1         9\n",
       "\n",
       "[128 rows x 5 columns]"
      ]
     },
     "execution_count": 136,
     "metadata": {},
     "output_type": "execute_result"
    }
   ],
   "source": [
    "gt_features[(gt_features['MinValue'] > -100) & (gt_features['Duration'] < 100)]"
   ]
  },
  {
   "cell_type": "code",
   "execution_count": 141,
   "metadata": {},
   "outputs": [],
   "source": [
    "gt_tanks = gt_features[(gt_features['MinValue'] > -100) & (gt_features['Duration'] < 100)].TankID.unique()"
   ]
  },
  {
   "cell_type": "code",
   "execution_count": 140,
   "metadata": {},
   "outputs": [],
   "source": [
    "ct_tanks = ct_features[(ct_features['MinValue'] > -25)].TankID.unique()"
   ]
  },
  {
   "cell_type": "code",
   "execution_count": 142,
   "metadata": {},
   "outputs": [],
   "source": [
    "#Subset datasets\n",
    "gt_sub = gateway[gateway['TankID'].isin(gt_tanks)]\n"
   ]
  },
  {
   "cell_type": "code",
   "execution_count": 143,
   "metadata": {},
   "outputs": [],
   "source": [
    "ct_sub = controller[controller['TankID'].isin(ct_tanks)]\n"
   ]
  },
  {
   "cell_type": "code",
   "execution_count": 145,
   "metadata": {},
   "outputs": [
    {
     "data": {
      "text/plain": [
       "(89571, 3)"
      ]
     },
     "execution_count": 145,
     "metadata": {},
     "output_type": "execute_result"
    }
   ],
   "source": [
    "gt_sub.shape"
   ]
  },
  {
   "cell_type": "code",
   "execution_count": 146,
   "metadata": {},
   "outputs": [
    {
     "data": {
      "text/plain": [
       "(121525, 3)"
      ]
     },
     "execution_count": 146,
     "metadata": {},
     "output_type": "execute_result"
    }
   ],
   "source": [
    "gateway.shape"
   ]
  },
  {
   "cell_type": "code",
   "execution_count": 152,
   "metadata": {},
   "outputs": [
    {
     "name": "stdout",
     "output_type": "stream",
     "text": [
      "(276, 59) (222, 59)\n"
     ]
    }
   ],
   "source": [
    "good_tanks = np.concatenate([gt_tanks,ct_tanks])\n",
    "facility_sub = facility[facility['TankID'].isin(good_tanks)]\n",
    "print(facility.shape,facility_sub.shape)"
   ]
  },
  {
   "cell_type": "code",
   "execution_count": 164,
   "metadata": {},
   "outputs": [],
   "source": [
    "gt_sub.to_csv('C:/Users/wanru/OneDrive - Ecolab/Desktop/tlm_analysis/data/processed/07-08-20-gateway-subset.csv',index=False)\n",
    "ct_sub.to_csv('C:/Users/wanru/OneDrive - Ecolab/Desktop/tlm_analysis/data/processed/07-08-20-controller-subset.csv',index=False)\n",
    "facility_sub.to_csv('C:/Users/wanru/OneDrive - Ecolab/Desktop/tlm_analysis/data/processed/07-08-20-facility-subset.csv',index=False)"
   ]
  },
  {
   "cell_type": "code",
   "execution_count": 154,
   "metadata": {},
   "outputs": [
    {
     "data": {
      "text/html": [
       "<div>\n",
       "<style scoped>\n",
       "    .dataframe tbody tr th:only-of-type {\n",
       "        vertical-align: middle;\n",
       "    }\n",
       "\n",
       "    .dataframe tbody tr th {\n",
       "        vertical-align: top;\n",
       "    }\n",
       "\n",
       "    .dataframe thead th {\n",
       "        text-align: right;\n",
       "    }\n",
       "</style>\n",
       "<table border=\"1\" class=\"dataframe\">\n",
       "  <thead>\n",
       "    <tr style=\"text-align: right;\">\n",
       "      <th></th>\n",
       "      <th>TankID</th>\n",
       "      <th>MeasurementDate</th>\n",
       "      <th>Value</th>\n",
       "    </tr>\n",
       "  </thead>\n",
       "  <tbody>\n",
       "    <tr>\n",
       "      <th>0</th>\n",
       "      <td>1282</td>\n",
       "      <td>2018-05-13</td>\n",
       "      <td>8.129432</td>\n",
       "    </tr>\n",
       "    <tr>\n",
       "      <th>1</th>\n",
       "      <td>1282</td>\n",
       "      <td>2018-05-14</td>\n",
       "      <td>7.796567</td>\n",
       "    </tr>\n",
       "    <tr>\n",
       "      <th>2</th>\n",
       "      <td>1282</td>\n",
       "      <td>2018-05-15</td>\n",
       "      <td>7.796567</td>\n",
       "    </tr>\n",
       "    <tr>\n",
       "      <th>3</th>\n",
       "      <td>1282</td>\n",
       "      <td>2018-05-16</td>\n",
       "      <td>7.685612</td>\n",
       "    </tr>\n",
       "    <tr>\n",
       "      <th>4</th>\n",
       "      <td>1282</td>\n",
       "      <td>2018-05-17</td>\n",
       "      <td>24.402829</td>\n",
       "    </tr>\n",
       "  </tbody>\n",
       "</table>\n",
       "</div>"
      ],
      "text/plain": [
       "   TankID MeasurementDate      Value\n",
       "0    1282      2018-05-13   8.129432\n",
       "1    1282      2018-05-14   7.796567\n",
       "2    1282      2018-05-15   7.796567\n",
       "3    1282      2018-05-16   7.685612\n",
       "4    1282      2018-05-17  24.402829"
      ]
     },
     "execution_count": 154,
     "metadata": {},
     "output_type": "execute_result"
    }
   ],
   "source": [
    "gt_sub.head()"
   ]
  },
  {
   "cell_type": "code",
   "execution_count": 159,
   "metadata": {},
   "outputs": [
    {
     "data": {
      "text/plain": [
       "[<matplotlib.lines.Line2D at 0x1ca48aa16c8>]"
      ]
     },
     "execution_count": 159,
     "metadata": {},
     "output_type": "execute_result"
    },
    {
     "data": {
      "image/png": "[encoded data removed]",
      "text/plain": [
       "<Figure size 432x288 with 1 Axes>"
      ]
     },
     "metadata": {
      "needs_background": "light"
     },
     "output_type": "display_data"
    }
   ],
   "source": [
    "plt.plot(gt_sub[gt_sub.TankID==1282].index.values.astype('M8[D]'), gt_sub[gt_sub.TankID==1282].Value)"
   ]
  },
  {
   "cell_type": "code",
   "execution_count": 165,
   "metadata": {},
   "outputs": [
    {
     "data": {
      "text/html": [
       "<div>\n",
       "<style scoped>\n",
       "    .dataframe tbody tr th:only-of-type {\n",
       "        vertical-align: middle;\n",
       "    }\n",
       "\n",
       "    .dataframe tbody tr th {\n",
       "        vertical-align: top;\n",
       "    }\n",
       "\n",
       "    .dataframe thead th {\n",
       "        text-align: right;\n",
       "    }\n",
       "</style>\n",
       "<table border=\"1\" class=\"dataframe\">\n",
       "  <thead>\n",
       "    <tr style=\"text-align: right;\">\n",
       "      <th></th>\n",
       "      <th>TankID</th>\n",
       "      <th>MeasurementDate</th>\n",
       "      <th>Value</th>\n",
       "    </tr>\n",
       "  </thead>\n",
       "  <tbody>\n",
       "    <tr>\n",
       "      <th>0</th>\n",
       "      <td>1282</td>\n",
       "      <td>2018-05-13</td>\n",
       "      <td>8.129432</td>\n",
       "    </tr>\n",
       "    <tr>\n",
       "      <th>1</th>\n",
       "      <td>1282</td>\n",
       "      <td>2018-05-14</td>\n",
       "      <td>7.796567</td>\n",
       "    </tr>\n",
       "    <tr>\n",
       "      <th>2</th>\n",
       "      <td>1282</td>\n",
       "      <td>2018-05-15</td>\n",
       "      <td>7.796567</td>\n",
       "    </tr>\n",
       "    <tr>\n",
       "      <th>3</th>\n",
       "      <td>1282</td>\n",
       "      <td>2018-05-16</td>\n",
       "      <td>7.685612</td>\n",
       "    </tr>\n",
       "    <tr>\n",
       "      <th>4</th>\n",
       "      <td>1282</td>\n",
       "      <td>2018-05-17</td>\n",
       "      <td>24.402829</td>\n",
       "    </tr>\n",
       "  </tbody>\n",
       "</table>\n",
       "</div>"
      ],
      "text/plain": [
       "   TankID MeasurementDate      Value\n",
       "0    1282      2018-05-13   8.129432\n",
       "1    1282      2018-05-14   7.796567\n",
       "2    1282      2018-05-15   7.796567\n",
       "3    1282      2018-05-16   7.685612\n",
       "4    1282      2018-05-17  24.402829"
      ]
     },
     "execution_count": 165,
     "metadata": {},
     "output_type": "execute_result"
    }
   ],
   "source": [
    "gt_sub.head()"
   ]
  },
  {
   "cell_type": "code",
   "execution_count": 162,
   "metadata": {},
   "outputs": [
    {
     "data": {
      "text/html": [
       "<div>\n",
       "<style scoped>\n",
       "    .dataframe tbody tr th:only-of-type {\n",
       "        vertical-align: middle;\n",
       "    }\n",
       "\n",
       "    .dataframe tbody tr th {\n",
       "        vertical-align: top;\n",
       "    }\n",
       "\n",
       "    .dataframe thead th {\n",
       "        text-align: right;\n",
       "    }\n",
       "</style>\n",
       "<table border=\"1\" class=\"dataframe\">\n",
       "  <thead>\n",
       "    <tr style=\"text-align: right;\">\n",
       "      <th></th>\n",
       "      <th>TankID</th>\n",
       "      <th>MeasurementDate</th>\n",
       "      <th>Value</th>\n",
       "    </tr>\n",
       "  </thead>\n",
       "  <tbody>\n",
       "    <tr>\n",
       "      <th>0</th>\n",
       "      <td>1282</td>\n",
       "      <td>2018-05-13</td>\n",
       "      <td>8.129432</td>\n",
       "    </tr>\n",
       "    <tr>\n",
       "      <th>1</th>\n",
       "      <td>1282</td>\n",
       "      <td>2018-05-14</td>\n",
       "      <td>7.796567</td>\n",
       "    </tr>\n",
       "    <tr>\n",
       "      <th>2</th>\n",
       "      <td>1282</td>\n",
       "      <td>2018-05-15</td>\n",
       "      <td>7.796567</td>\n",
       "    </tr>\n",
       "    <tr>\n",
       "      <th>3</th>\n",
       "      <td>1282</td>\n",
       "      <td>2018-05-16</td>\n",
       "      <td>7.685612</td>\n",
       "    </tr>\n",
       "    <tr>\n",
       "      <th>4</th>\n",
       "      <td>1282</td>\n",
       "      <td>2018-05-17</td>\n",
       "      <td>24.402829</td>\n",
       "    </tr>\n",
       "  </tbody>\n",
       "</table>\n",
       "</div>"
      ],
      "text/plain": [
       "   TankID MeasurementDate      Value\n",
       "0    1282      2018-05-13   8.129432\n",
       "1    1282      2018-05-14   7.796567\n",
       "2    1282      2018-05-15   7.796567\n",
       "3    1282      2018-05-16   7.685612\n",
       "4    1282      2018-05-17  24.402829"
      ]
     },
     "execution_count": 162,
     "metadata": {},
     "output_type": "execute_result"
    }
   ],
   "source": [
    "gateway.head()"
   ]
  }
 ],
 "metadata": {
  "kernelspec": {
   "display_name": "Python 3",
   "language": "python",
   "name": "python3"
  },
  "language_info": {
   "codemirror_mode": {
    "name": "ipython",
    "version": 3
   },
   "file_extension": ".py",
   "mimetype": "text/x-python",
   "name": "python",
   "nbconvert_exporter": "python",
   "pygments_lexer": "ipython3",
   "version": "3.6.10"
  }
 },
 "nbformat": 4,
 "nbformat_minor": 4
}
