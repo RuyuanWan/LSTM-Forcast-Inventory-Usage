{
 "cells": [
  {
   "cell_type": "code",
   "execution_count": 1,
   "metadata": {},
   "outputs": [
    {
     "name": "stderr",
     "output_type": "stream",
     "text": [
      "Using TensorFlow backend.\n"
     ]
    }
   ],
   "source": [
    "import numpy as np\n",
    "import matplotlib.pyplot as plt\n",
    "import pandas as pd\n",
    "import math\n",
    "import tensorflow \n",
    "from keras.models import Sequential\n",
    "from keras.layers import Dense, Activation, Dropout\n",
    "from keras.layers import LSTM\n",
    "from keras.optimizers import Adam\n",
    "from sklearn.preprocessing import MinMaxScaler, RobustScaler\n",
    "from sklearn.metrics import mean_squared_error, mean_absolute_error\n",
    "from pandas import read_csv\n",
    "from pandas import datetime\n",
    "from pandas import DataFrame\n",
    "from pandas import concat\n",
    "from keras.models import Sequential\n",
    "from keras.layers import LSTM, Dense\n",
    "from cond_rnn import ConditionalRNN\n",
    "import tensorflow as tf\n",
    "from numpy import asarray\n",
    "from sklearn.preprocessing import OrdinalEncoder\n",
    "from sklearn.metrics import mean_squared_error\n",
    "import time\n"
   ]
  },
  {
   "cell_type": "code",
   "execution_count": 2,
   "metadata": {},
   "outputs": [],
   "source": [
    "gateway = pd.read_csv('C:/Users/wanru/OneDrive - Ecolab/Desktop/tlm_analysis/data/processed/07-08-20-gateway-subset.csv')\n",
    "controller = pd.read_csv('C:/Users/wanru/OneDrive - Ecolab/Desktop/tlm_analysis/data/processed/07-08-20-controller-subset.csv')\n",
    "facility = pd.read_csv('C:/Users/wanru/OneDrive - Ecolab/Desktop/tlm_analysis/data/processed/07-08-20-facility-subset.csv')\n"
   ]
  },
  {
   "cell_type": "code",
   "execution_count": 3,
   "metadata": {},
   "outputs": [],
   "source": [
    "import copy\n",
    "def _read_measurement_data(fpath):\n",
    "    ddf = pd.read_csv(fpath)\n",
    "    df = ddf.pivot(index=\"MeasurementDate\", columns=\"TankID\")\n",
    "    df.columns = [x[1] for x in df.columns.values]\n",
    "    df.index = df.index.astype(\"M8[ns]\")\n",
    "    return df.fillna(0)\n",
    "def _transform_data(df_resampled: pd.DataFrame):\n",
    "    \"\"\" Resamples the historical data for the tanks being modeled \"\"\"\n",
    "    df_differences = copy.copy(df_resampled.diff().fillna(0))\n",
    "    df_differences[df_differences > 0.5] = 0\n",
    "    return df_differences"
   ]
  },
  {
   "cell_type": "code",
   "execution_count": 4,
   "metadata": {},
   "outputs": [],
   "source": [
    "controller_path='C:/Users/wanru/OneDrive - Ecolab/Desktop/tlm_analysis/data/processed/07-08-20-controller-subset.csv'\n",
    "gateway_path = 'C:/Users/wanru/OneDrive - Ecolab/Desktop/tlm_analysis/data/processed/07-08-20-gateway-subset.csv'\n",
    "CT = _read_measurement_data(controller_path)\n",
    "GT = _read_measurement_data(gateway_path)    \n",
    "CT_tank_ids = CT.columns\n",
    "CT_resampled = CT.resample(\"D\").mean().interpolate()\n",
    "CT_features = _transform_data(CT_resampled)\n",
    "\n",
    "GT_tank_ids = GT.columns\n",
    "GT_resampled = GT.resample(\"D\").mean().interpolate()\n",
    "GT_features = _transform_data(GT_resampled)"
   ]
  },
  {
   "cell_type": "code",
   "execution_count": 5,
   "metadata": {},
   "outputs": [],
   "source": [
    "def process_single_tank(series,window_size,scaler):\n",
    "    #normalizing the data using minmax scaler\n",
    "    scaled = scaler.fit_transform(series)\n",
    "    series = pd.DataFrame(scaled) \n",
    "    #series = pd.DataFrame(series)\n",
    "    series_s = series.copy()\n",
    "    for i in range(window_size):\n",
    "        series = pd.concat([series,series_s.shift(-(i+1))],axis =1)    \n",
    "    series.dropna(axis=0,inplace=True)\n",
    "    nrow = round(series.shape[0]-42)\n",
    "    train = series.iloc[:nrow, :]\n",
    "    test = series.iloc[nrow:,:]\n",
    "    from sklearn.utils import shuffle\n",
    "    train = shuffle(train)\n",
    "\n",
    "    train_X = train.iloc[:,:-1]\n",
    "    train_y = train.iloc[:,-1]\n",
    "    test_X = test.iloc[:,:-1]\n",
    "    test_y = test.iloc[:,-1]\n",
    "    train_X = train_X.values\n",
    "    train_y = train_y.to_numpy().reshape(-1,1)\n",
    "    test_X = test_X.values\n",
    "    test_y = test_y.to_numpy().reshape(-1,1)\n",
    "\n",
    "\n",
    "    \n",
    "    return train_X,train_y,test_X,test_y,nrow\n"
   ]
  },
  {
   "cell_type": "code",
   "execution_count": 6,
   "metadata": {},
   "outputs": [],
   "source": [
    "def process_all_tank(CT_features,window_size):\n",
    "    #scaler = MinMaxScaler(feature_range=(-1,1))\n",
    "    scaler = RobustScaler()\n",
    "    train_X_all = None\n",
    "    # iterate by TankID in Controller features\n",
    "    for column_name in CT_features: \n",
    "        series = CT_features[column_name].to_numpy().reshape(-1,1)\n",
    "        train_X,train_y,test_X,test_y,nrow = process_single_tank(series,window_size,scaler)\n",
    "        train_X = train_X.reshape(train_X.shape[0],train_X.shape[1],1)\n",
    "        test_X = test_X.reshape(test_X.shape[0],test_X.shape[1],1)\n",
    "        \n",
    "        if train_X_all is None:\n",
    "            train_X_all = train_X\n",
    "#            train_y_all = train_y\n",
    "            test_X_all = test_X\n",
    " #           test_y_all = test_y\n",
    "        else:\n",
    "            train_X_all = np.concatenate([train_X_all, train_X], -1)\n",
    "            test_X_all = np.concatenate([test_X_all, test_X], -1)\n",
    "#            train_y_all = np.concatenate([train_y_all, train_y], -1)\n",
    "#            test_y_all = np.concatenate([test_y_all, test_y], -1)\n",
    "    train_y_all = CT_features.iloc[window_size:nrow+window_size,]\n",
    "    test_y_all = CT_features.iloc[nrow+window_size:,]\n",
    "    return train_X_all,test_X_all,train_y_all,test_y_all,nrow"
   ]
  },
  {
   "cell_type": "code",
   "execution_count": 8,
   "metadata": {},
   "outputs": [],
   "source": [
    "def process_all_tank_with_facility(CT_features,facility,window_size):\n",
    "    #scaler = MinMaxScaler(feature_range=(-1,1))\n",
    "    scaler = RobustScaler()\n",
    "#    scaler_ordervolume = MinMaxScaler(feature_range=(-1,1))  \n",
    "#    scaler_tankorder = MinMaxScaler(feature_range=(-1,1))  \n",
    "#    scaler_tankvolume = MinMaxScaler(feature_range=(-1,1))\n",
    "    facility['OrderVolume'] = pd.DataFrame(scaler.fit_transform(pd.DataFrame(facility['OrderVolume'])),columns=['OrderVolume'] )\n",
    "    facility['TankOrder'] = pd.DataFrame(scaler.fit_transform(pd.DataFrame(facility['TankOrder'])),columns=['TankOrder'] )\n",
    "    facility['TankVolume'] = pd.DataFrame(scaler.fit_transform(pd.DataFrame(facility['TankVolume'])),columns=['TankVolume'])\n",
    "    #df[col] = pd.DataFrame(min_max_scaler.fit_transform(pd.DataFrame(dfTest[col])),columns=[col])    \n",
    "    train_X_all = None\n",
    "    # iterate by TankID in Controller features\n",
    "    for column_name in CT_features: \n",
    "        series = CT_features[column_name].to_numpy().reshape(-1,1)\n",
    "        train_X,train_y,test_X,test_y,nrow = process_single_tank(series,window_size,scaler)\n",
    "        #order_volume, tank_order, tank_volume : most important facility features       \n",
    "        order_volume = facility[facility['TankID']==column_name]['OrderVolume']\n",
    "        tank_order = facility[facility['TankID']==column_name]['TankOrder']        \n",
    "        tank_volume = facility[facility['TankID']==column_name]['TankVolume']\n",
    "         \n",
    "        order_volume_train = np.array([order_volume.values] * nrow)        \n",
    "        order_volume_test = np.array([order_volume.values] * 42)   \n",
    "        \n",
    "        tank_order_train = np.array([tank_order.values] * nrow)        \n",
    "        tank_order_test = np.array([tank_order.values] * 42)   \n",
    "        \n",
    "        tank_volume_train = np.array([tank_volume.values] * nrow)        \n",
    "        tank_volume_test = np.array([tank_volume.values] * 42)   \n",
    "        \n",
    "        train_X = np.append( order_volume_train, train_X,axis=1)\n",
    "        test_X = np.append( order_volume_test, test_X, axis=1)\n",
    "        \n",
    "        train_X = np.append(tank_order_train,train_X,  axis=1)\n",
    "        test_X = np.append(tank_order_test,test_X,  axis=1) \n",
    "        \n",
    "        train_X = np.append(tank_volume_train,train_X, axis=1)\n",
    "        test_X = np.append(tank_volume_test,test_X, axis=1)        \n",
    "        \n",
    "        train_X = train_X.reshape(train_X.shape[0],train_X.shape[1],1)\n",
    "        test_X = test_X.reshape(test_X.shape[0],test_X.shape[1],1)\n",
    "        if train_X_all is None:\n",
    "            train_X_all = train_X\n",
    "            train_y_all = train_y\n",
    "            test_X_all = test_X\n",
    "            test_y_all = test_y\n",
    "        else:\n",
    "            train_X_all = np.concatenate([train_X_all, train_X], -1)\n",
    "            test_X_all = np.concatenate([test_X_all, test_X], -1)\n",
    "            train_y_all = np.concatenate([train_y_all, train_y], -1)\n",
    "            test_y_all = np.concatenate([test_y_all, test_y], -1)\n",
    "    train_y_all = CT_features.iloc[window_size:nrow+window_size,]\n",
    "    test_y_all = CT_features.iloc[nrow+window_size:,]\n",
    "    return train_X_all,test_X_all,train_y_all,test_y_all,nrow"
   ]
  },
  {
   "cell_type": "code",
   "execution_count": 120,
   "metadata": {},
   "outputs": [],
   "source": [
    "window_size = 21\n",
    "train_X_21_facility,test_X_21_facility,train_y_21_facility,test_y_21_facility,nrow = process_all_tank_with_facility(CT_features,facility,window_size)"
   ]
  },
  {
   "cell_type": "code",
   "execution_count": 7,
   "metadata": {},
   "outputs": [],
   "source": [
    "window_size = 50\n",
    "train_X_all_50,test_X_all_50,train_y_all_50,test_y_all_50,nrow = process_all_tank(CT_features,window_size)"
   ]
  },
  {
   "cell_type": "code",
   "execution_count": 8,
   "metadata": {},
   "outputs": [],
   "source": [
    "window_size = 30\n",
    "train_X_all_30,test_X_all_30,train_y_all_30,test_y_all_30,nrow = process_all_tank(CT_features,window_size)"
   ]
  },
  {
   "cell_type": "code",
   "execution_count": 9,
   "metadata": {},
   "outputs": [],
   "source": [
    "window_size = 21\n",
    "train_X_all_21,test_X_all_21,train_y_all_21,test_y_all_21,nrow = process_all_tank(CT_features,window_size)"
   ]
  },
  {
   "cell_type": "code",
   "execution_count": 10,
   "metadata": {},
   "outputs": [],
   "source": [
    "window_size = 14\n",
    "train_X_all_14,test_X_all_14,train_y_all_14,test_y_all_14,nrow = process_all_tank(CT_features,window_size)"
   ]
  },
  {
   "cell_type": "code",
   "execution_count": 11,
   "metadata": {},
   "outputs": [
    {
     "name": "stdout",
     "output_type": "stream",
     "text": [
      "(694, 21, 93)\n",
      "(42, 21, 93)\n",
      "(694, 93)\n",
      "(42, 93)\n",
      "(757, 93)\n"
     ]
    }
   ],
   "source": [
    "print(train_X_all_21.shape)\n",
    "print(test_X_all_21.shape)\n",
    "print(train_y_all_21.shape)\n",
    "print(test_y_all_21.shape)\n",
    "print(CT_features.shape)"
   ]
  },
  {
   "cell_type": "code",
   "execution_count": 62,
   "metadata": {},
   "outputs": [
    {
     "name": "stdout",
     "output_type": "stream",
     "text": [
      "(694, 24, 93)\n",
      "(42, 24, 93)\n",
      "(694, 93)\n",
      "(42, 93)\n",
      "(757, 93)\n"
     ]
    }
   ],
   "source": [
    "print(train_X_21_facility.shape)\n",
    "print(test_X_21_facility.shape)\n",
    "print(train_y_21_facility.shape)\n",
    "print(test_y_21_facility.shape)\n",
    "print(CT_features.shape)"
   ]
  },
  {
   "cell_type": "markdown",
   "metadata": {},
   "source": [
    "**one epoch** = one forward pass and one backward pass of all the training examples<br>\n",
    "**batch size** = the number of training examples in one forward/backward pass. The higher the batch size, the more memory space you'll need.<br>\n",
    "**number of iterations** = number of passes, each pass using [batch size] number of examples. To be clear, one pass = one forward pass + one backward pass (we do not count the forward pass and backward pass as two different passes).<br>\n",
    "**Example**: if you have 1000 training examples, and your batch size is 500, then it will take 2 iterations to complete 1 epoch.<br>"
   ]
  },
  {
   "cell_type": "code",
   "execution_count": 12,
   "metadata": {},
   "outputs": [
    {
     "name": "stdout",
     "output_type": "stream",
     "text": [
      "Train on 598 samples, validate on 67 samples\n",
      "Epoch 1/40\n",
      "598/598 [==============================] - 8s 14ms/step - loss: 1.9766 - val_loss: 1.8699\n",
      "Epoch 2/40\n",
      "598/598 [==============================] - 6s 10ms/step - loss: 1.5548 - val_loss: 1.5828\n",
      "Epoch 3/40\n",
      "598/598 [==============================] - 7s 11ms/step - loss: 1.3297 - val_loss: 1.4235\n",
      "Epoch 4/40\n",
      "598/598 [==============================] - 5s 9ms/step - loss: 1.2051 - val_loss: 1.3479\n",
      "Epoch 5/40\n",
      "598/598 [==============================] - 6s 10ms/step - loss: 1.1372 - val_loss: 1.3006\n",
      "Epoch 6/40\n",
      "598/598 [==============================] - 6s 9ms/step - loss: 1.1018 - val_loss: 1.2775\n",
      "Epoch 7/40\n",
      "598/598 [==============================] - 6s 10ms/step - loss: 1.0829 - val_loss: 1.2693\n",
      "Epoch 8/40\n",
      "598/598 [==============================] - 6s 9ms/step - loss: 1.0723 - val_loss: 1.2519\n",
      "Epoch 9/40\n",
      "598/598 [==============================] - 6s 10ms/step - loss: 1.0661 - val_loss: 1.2466\n",
      "Epoch 10/40\n",
      "598/598 [==============================] - 6s 10ms/step - loss: 1.0624 - val_loss: 1.2401\n",
      "Epoch 11/40\n",
      "598/598 [==============================] - 6s 10ms/step - loss: 1.0591 - val_loss: 1.2518\n",
      "Epoch 12/40\n",
      "598/598 [==============================] - 7s 11ms/step - loss: 1.0571 - val_loss: 1.2490\n",
      "Epoch 13/40\n",
      "598/598 [==============================] - 6s 11ms/step - loss: 1.0550 - val_loss: 1.2467\n",
      "Epoch 14/40\n",
      "598/598 [==============================] - 6s 9ms/step - loss: 1.0520 - val_loss: 1.2458\n",
      "Epoch 15/40\n",
      "598/598 [==============================] - 6s 11ms/step - loss: 1.0474 - val_loss: 1.2463\n",
      "Epoch 16/40\n",
      "598/598 [==============================] - 6s 10ms/step - loss: 1.0406 - val_loss: 1.2459\n",
      "Epoch 17/40\n",
      "598/598 [==============================] - 6s 10ms/step - loss: 1.0355 - val_loss: 1.2435\n",
      "Epoch 18/40\n",
      "598/598 [==============================] - 6s 9ms/step - loss: 1.0304 - val_loss: 1.2476\n",
      "Epoch 19/40\n",
      "598/598 [==============================] - 6s 10ms/step - loss: 1.0248 - val_loss: 1.2304\n",
      "Epoch 20/40\n",
      "598/598 [==============================] - 5s 9ms/step - loss: 1.0188 - val_loss: 1.2401\n",
      "Epoch 21/40\n",
      "598/598 [==============================] - 6s 9ms/step - loss: 1.0174 - val_loss: 1.2540\n",
      "Epoch 22/40\n",
      "598/598 [==============================] - 5s 9ms/step - loss: 1.0167 - val_loss: 1.2440\n",
      "Epoch 23/40\n",
      "598/598 [==============================] - 6s 10ms/step - loss: 1.0123 - val_loss: 1.2332\n",
      "Epoch 24/40\n",
      "598/598 [==============================] - 6s 10ms/step - loss: 1.0097 - val_loss: 1.2407\n",
      "Epoch 25/40\n",
      "598/598 [==============================] - 6s 10ms/step - loss: 1.0081 - val_loss: 1.2716\n",
      "Epoch 26/40\n",
      "598/598 [==============================] - 6s 10ms/step - loss: 1.0060 - val_loss: 1.2570\n",
      "Epoch 27/40\n",
      "598/598 [==============================] - 7s 12ms/step - loss: 1.0035 - val_loss: 1.2492\n",
      "Epoch 28/40\n",
      "598/598 [==============================] - 7s 11ms/step - loss: 1.0016 - val_loss: 1.2418\n",
      "Epoch 29/40\n",
      "598/598 [==============================] - 5s 9ms/step - loss: 1.0005 - val_loss: 1.2579\n",
      "Epoch 30/40\n",
      "598/598 [==============================] - 6s 9ms/step - loss: 0.9994 - val_loss: 1.2584\n",
      "Epoch 31/40\n",
      "598/598 [==============================] - 6s 10ms/step - loss: 0.9983 - val_loss: 1.2551\n",
      "Epoch 32/40\n",
      "598/598 [==============================] - 7s 11ms/step - loss: 0.9969 - val_loss: 1.2527\n",
      "Epoch 33/40\n",
      "598/598 [==============================] - 6s 10ms/step - loss: 0.9958 - val_loss: 1.2487\n",
      "Epoch 34/40\n",
      "598/598 [==============================] - 6s 9ms/step - loss: 0.9946 - val_loss: 1.2471\n",
      "Epoch 35/40\n",
      "598/598 [==============================] - 6s 9ms/step - loss: 0.9938 - val_loss: 1.2692\n",
      "Epoch 36/40\n",
      "598/598 [==============================] - 6s 10ms/step - loss: 0.9935 - val_loss: 1.2445\n",
      "Epoch 37/40\n",
      "598/598 [==============================] - 6s 9ms/step - loss: 0.9917 - val_loss: 1.2258\n",
      "Epoch 38/40\n",
      "598/598 [==============================] - 6s 10ms/step - loss: 0.9906 - val_loss: 1.2522\n",
      "Epoch 39/40\n",
      "598/598 [==============================] - 6s 11ms/step - loss: 0.9883 - val_loss: 1.2547\n",
      "Epoch 40/40\n",
      "598/598 [==============================] - 6s 10ms/step - loss: 0.9871 - val_loss: 1.2550\n"
     ]
    }
   ],
   "source": [
    "opt = Adam(lr=0.001, clipnorm=1.0)# gradient clipping to avoid exploding gradients\n",
    "model_scaled = Sequential()\n",
    "model_scaled.add(LSTM(256, return_sequences = True, input_shape = (50, 93)))\n",
    "model_scaled.add(Dropout(0.5))\n",
    "model_scaled.add(LSTM(128,input_shape = (50, 93)))\n",
    "model_scaled.add(Dense(93,kernel_regularizer='l2'))# add L2 norm to regularize data, another way to avoid exploding gradients\n",
    "model_scaled.compile(loss = 'mean_absolute_error', optimizer = opt)\n",
    "model_scaled.save_weights('LSTM_0.h5')\n",
    "model_scaled.load_weights('LSTM_0.h5')\n",
    "model_scaled_result_50 = model_scaled.fit(train_X_all_50, train_y_all_50, epochs = 40, batch_size = 20,validation_split=0.1)\n",
    "model_scaled.save_weights('LSTM_window50.h5')\n",
    "#model.load_weights('LSTMBasic1.h5')\n",
    "# optimze num epoch. and moving window \n"
   ]
  },
  {
   "cell_type": "code",
   "execution_count": 13,
   "metadata": {},
   "outputs": [
    {
     "name": "stdout",
     "output_type": "stream",
     "text": [
      "Train on 616 samples, validate on 69 samples\n",
      "Epoch 1/40\n",
      "616/616 [==============================] - 6s 9ms/step - loss: 1.9809 - val_loss: 1.8588\n",
      "Epoch 2/40\n",
      "616/616 [==============================] - 4s 6ms/step - loss: 1.5430 - val_loss: 1.5721\n",
      "Epoch 3/40\n",
      "616/616 [==============================] - 4s 6ms/step - loss: 1.3130 - val_loss: 1.4107\n",
      "Epoch 4/40\n",
      "616/616 [==============================] - 4s 7ms/step - loss: 1.1887 - val_loss: 1.3355\n",
      "Epoch 5/40\n",
      "616/616 [==============================] - 4s 6ms/step - loss: 1.1229 - val_loss: 1.2854\n",
      "Epoch 6/40\n",
      "616/616 [==============================] - 3s 6ms/step - loss: 1.0887 - val_loss: 1.2669\n",
      "Epoch 7/40\n",
      "616/616 [==============================] - 4s 6ms/step - loss: 1.0705 - val_loss: 1.2493\n",
      "Epoch 8/40\n",
      "616/616 [==============================] - 4s 6ms/step - loss: 1.0602 - val_loss: 1.2447\n",
      "Epoch 9/40\n",
      "616/616 [==============================] - 4s 6ms/step - loss: 1.0550 - val_loss: 1.2477\n",
      "Epoch 10/40\n",
      "616/616 [==============================] - 4s 6ms/step - loss: 1.0510 - val_loss: 1.2348\n",
      "Epoch 11/40\n",
      "616/616 [==============================] - 4s 6ms/step - loss: 1.0479 - val_loss: 1.2307\n",
      "Epoch 12/40\n",
      "616/616 [==============================] - 4s 6ms/step - loss: 1.0460 - val_loss: 1.2335\n",
      "Epoch 13/40\n",
      "616/616 [==============================] - 4s 6ms/step - loss: 1.0452 - val_loss: 1.2299\n",
      "Epoch 14/40\n",
      "616/616 [==============================] - 3s 6ms/step - loss: 1.0436 - val_loss: 1.2307\n",
      "Epoch 15/40\n",
      "616/616 [==============================] - 4s 6ms/step - loss: 1.0420 - val_loss: 1.2304\n",
      "Epoch 16/40\n",
      "616/616 [==============================] - 3s 6ms/step - loss: 1.0398 - val_loss: 1.2311\n",
      "Epoch 17/40\n",
      "616/616 [==============================] - 4s 6ms/step - loss: 1.0363 - val_loss: 1.2330\n",
      "Epoch 18/40\n",
      "616/616 [==============================] - 4s 7ms/step - loss: 1.0353 - val_loss: 1.2337\n",
      "Epoch 19/40\n",
      "616/616 [==============================] - 4s 7ms/step - loss: 1.0295 - val_loss: 1.2395\n",
      "Epoch 20/40\n",
      "616/616 [==============================] - 4s 7ms/step - loss: 1.0230 - val_loss: 1.2351\n",
      "Epoch 21/40\n",
      "616/616 [==============================] - 4s 7ms/step - loss: 1.0168 - val_loss: 1.2400\n",
      "Epoch 22/40\n",
      "616/616 [==============================] - 5s 7ms/step - loss: 1.0135 - val_loss: 1.2402\n",
      "Epoch 23/40\n",
      "616/616 [==============================] - 5s 8ms/step - loss: 1.0103 - val_loss: 1.2340\n",
      "Epoch 24/40\n",
      "616/616 [==============================] - 4s 6ms/step - loss: 1.0061 - val_loss: 1.2340\n",
      "Epoch 25/40\n",
      "616/616 [==============================] - 4s 6ms/step - loss: 1.0048 - val_loss: 1.2387\n",
      "Epoch 26/40\n",
      "616/616 [==============================] - 4s 6ms/step - loss: 1.0010 - val_loss: 1.2458\n",
      "Epoch 27/40\n",
      "616/616 [==============================] - 4s 6ms/step - loss: 0.9988 - val_loss: 1.2348\n",
      "Epoch 28/40\n",
      "616/616 [==============================] - 4s 6ms/step - loss: 0.9972 - val_loss: 1.2432\n",
      "Epoch 29/40\n",
      "616/616 [==============================] - 4s 6ms/step - loss: 0.9950 - val_loss: 1.2296\n",
      "Epoch 30/40\n",
      "616/616 [==============================] - 4s 6ms/step - loss: 0.9932 - val_loss: 1.2419\n",
      "Epoch 31/40\n",
      "616/616 [==============================] - 4s 6ms/step - loss: 0.9920 - val_loss: 1.2394\n",
      "Epoch 32/40\n",
      "616/616 [==============================] - 4s 6ms/step - loss: 0.9893 - val_loss: 1.2436\n",
      "Epoch 33/40\n",
      "616/616 [==============================] - 4s 6ms/step - loss: 0.9880 - val_loss: 1.2585\n",
      "Epoch 34/40\n",
      "616/616 [==============================] - 4s 6ms/step - loss: 0.9861 - val_loss: 1.2525\n",
      "Epoch 35/40\n",
      "616/616 [==============================] - 4s 6ms/step - loss: 0.9838 - val_loss: 1.2410\n",
      "Epoch 36/40\n",
      "616/616 [==============================] - 4s 6ms/step - loss: 0.9816 - val_loss: 1.2456\n",
      "Epoch 37/40\n",
      "616/616 [==============================] - 4s 6ms/step - loss: 0.9813 - val_loss: 1.2561\n",
      "Epoch 38/40\n",
      "616/616 [==============================] - 4s 7ms/step - loss: 0.9818 - val_loss: 1.2360\n",
      "Epoch 39/40\n",
      "616/616 [==============================] - 4s 7ms/step - loss: 0.9787 - val_loss: 1.2258\n",
      "Epoch 40/40\n",
      "616/616 [==============================] - 4s 6ms/step - loss: 0.9763 - val_loss: 1.2335\n"
     ]
    }
   ],
   "source": [
    "opt = Adam(lr=0.001, clipnorm=1.0)# gradient clipping to avoid exploding gradients\n",
    "model_scaled_30 = Sequential()\n",
    "model_scaled_30.add(LSTM(256, return_sequences = True, input_shape = (30, 93)))\n",
    "model_scaled_30.add(Dropout(0.5))\n",
    "model_scaled_30.add(LSTM(128,input_shape = (30, 93)))\n",
    "model_scaled_30.add(Dense(93,kernel_regularizer='l2'))# add L2 norm to regularize data, another way to avoid exploding gradients\n",
    "model_scaled_30.compile(loss = 'mean_absolute_error', optimizer = opt)\n",
    "model_scaled_result_30 = model_scaled_30.fit(train_X_all_30, train_y_all_30, epochs = 40, batch_size = 20,validation_split=0.1)\n",
    "model_scaled_30.save_weights('LSTM_window30.h5')\n",
    "#model_scaled_30.load_weights('LSTM_0.h5')\n"
   ]
  },
  {
   "cell_type": "code",
   "execution_count": 14,
   "metadata": {},
   "outputs": [
    {
     "name": "stdout",
     "output_type": "stream",
     "text": [
      "Train on 624 samples, validate on 70 samples\n",
      "Epoch 1/40\n",
      "624/624 [==============================] - 5s 8ms/step - loss: 1.9817 - val_loss: 1.8451\n",
      "Epoch 2/40\n",
      "624/624 [==============================] - 3s 5ms/step - loss: 1.5261 - val_loss: 1.5507\n",
      "Epoch 3/40\n",
      "624/624 [==============================] - 3s 5ms/step - loss: 1.2962 - val_loss: 1.3963\n",
      "Epoch 4/40\n",
      "624/624 [==============================] - 3s 5ms/step - loss: 1.1746 - val_loss: 1.3205\n",
      "Epoch 5/40\n",
      "624/624 [==============================] - 3s 5ms/step - loss: 1.1116 - val_loss: 1.2808\n",
      "Epoch 6/40\n",
      "624/624 [==============================] - 3s 5ms/step - loss: 1.0795 - val_loss: 1.2600\n",
      "Epoch 7/40\n",
      "624/624 [==============================] - 3s 5ms/step - loss: 1.0630 - val_loss: 1.2454\n",
      "Epoch 8/40\n",
      "624/624 [==============================] - 3s 4ms/step - loss: 1.0543 - val_loss: 1.2373\n",
      "Epoch 9/40\n",
      "624/624 [==============================] - 3s 5ms/step - loss: 1.0478 - val_loss: 1.2407\n",
      "Epoch 10/40\n",
      "624/624 [==============================] - 3s 5ms/step - loss: 1.0450 - val_loss: 1.2342\n",
      "Epoch 11/40\n",
      "624/624 [==============================] - 3s 4ms/step - loss: 1.0428 - val_loss: 1.2346\n",
      "Epoch 12/40\n",
      "624/624 [==============================] - 3s 4ms/step - loss: 1.0412 - val_loss: 1.2320\n",
      "Epoch 13/40\n",
      "624/624 [==============================] - 3s 4ms/step - loss: 1.0406 - val_loss: 1.2307\n",
      "Epoch 14/40\n",
      "624/624 [==============================] - 3s 5ms/step - loss: 1.0376 - val_loss: 1.2316\n",
      "Epoch 15/40\n",
      "624/624 [==============================] - 3s 5ms/step - loss: 1.0339 - val_loss: 1.2390\n",
      "Epoch 16/40\n",
      "624/624 [==============================] - 3s 5ms/step - loss: 1.0310 - val_loss: 1.2283\n",
      "Epoch 17/40\n",
      "624/624 [==============================] - 3s 5ms/step - loss: 1.0247 - val_loss: 1.2344\n",
      "Epoch 18/40\n",
      "624/624 [==============================] - 3s 5ms/step - loss: 1.0198 - val_loss: 1.2294\n",
      "Epoch 19/40\n",
      "624/624 [==============================] - 3s 5ms/step - loss: 1.0133 - val_loss: 1.2372\n",
      "Epoch 20/40\n",
      "624/624 [==============================] - 3s 5ms/step - loss: 1.0089 - val_loss: 1.2320\n",
      "Epoch 21/40\n",
      "624/624 [==============================] - 3s 4ms/step - loss: 1.0052 - val_loss: 1.2293\n",
      "Epoch 22/40\n",
      "624/624 [==============================] - 3s 5ms/step - loss: 1.0011 - val_loss: 1.2320\n",
      "Epoch 23/40\n",
      "624/624 [==============================] - 3s 4ms/step - loss: 0.9989 - val_loss: 1.2221\n",
      "Epoch 24/40\n",
      "624/624 [==============================] - 3s 4ms/step - loss: 0.9983 - val_loss: 1.2449\n",
      "Epoch 25/40\n",
      "624/624 [==============================] - 3s 4ms/step - loss: 0.9956 - val_loss: 1.2347\n",
      "Epoch 26/40\n",
      "624/624 [==============================] - 3s 4ms/step - loss: 0.9927 - val_loss: 1.2392\n",
      "Epoch 27/40\n",
      "624/624 [==============================] - 3s 5ms/step - loss: 0.9912 - val_loss: 1.2500\n",
      "Epoch 28/40\n",
      "624/624 [==============================] - 3s 4ms/step - loss: 0.9890 - val_loss: 1.2505\n",
      "Epoch 29/40\n",
      "624/624 [==============================] - 3s 4ms/step - loss: 0.9901 - val_loss: 1.2498\n",
      "Epoch 30/40\n",
      "624/624 [==============================] - 3s 5ms/step - loss: 0.9884 - val_loss: 1.2533\n",
      "Epoch 31/40\n",
      "624/624 [==============================] - 3s 5ms/step - loss: 0.9885 - val_loss: 1.2387\n",
      "Epoch 32/40\n",
      "624/624 [==============================] - 3s 5ms/step - loss: 0.9857 - val_loss: 1.2559\n",
      "Epoch 33/40\n",
      "624/624 [==============================] - 3s 4ms/step - loss: 0.9844 - val_loss: 1.2518\n",
      "Epoch 34/40\n",
      "624/624 [==============================] - 3s 4ms/step - loss: 0.9827 - val_loss: 1.2514\n",
      "Epoch 35/40\n",
      "624/624 [==============================] - 3s 5ms/step - loss: 0.9804 - val_loss: 1.2303\n",
      "Epoch 36/40\n",
      "624/624 [==============================] - 3s 4ms/step - loss: 0.9785 - val_loss: 1.2420\n",
      "Epoch 37/40\n",
      "624/624 [==============================] - 3s 5ms/step - loss: 0.9778 - val_loss: 1.2307\n",
      "Epoch 38/40\n",
      "624/624 [==============================] - 3s 4ms/step - loss: 0.9778 - val_loss: 1.2484\n",
      "Epoch 39/40\n",
      "624/624 [==============================] - 3s 4ms/step - loss: 0.9762 - val_loss: 1.2506\n",
      "Epoch 40/40\n",
      "624/624 [==============================] - 3s 4ms/step - loss: 0.9747 - val_loss: 1.2498\n",
      "> Compilation Time :  123.33880949020386\n"
     ]
    }
   ],
   "source": [
    "start = time.time()\n",
    "opt = Adam(lr=0.001, clipnorm=1.0)# gradient clipping to avoid exploding gradients\n",
    "model_scaled_21 = Sequential()\n",
    "model_scaled_21.add(LSTM(256, return_sequences = True, input_shape = (21, 93)))\n",
    "model_scaled_21.add(Dropout(0.5))\n",
    "model_scaled_21.add(LSTM(128,input_shape = (21, 93)))\n",
    "model_scaled_21.add(Dense(93,kernel_regularizer='l2'))# add L2 norm to regularize data, another way to avoid exploding gradients\n",
    "model_scaled_21.compile(loss = 'mean_absolute_error', optimizer = opt)\n",
    "model_scaled_result_21 = model_scaled_21.fit(train_X_all_21, train_y_all_21, epochs = 40, batch_size = 20,validation_split=0.1)\n",
    "model_scaled_21.save_weights('LSTM_window21.h5')\n",
    "print(\"> Compilation Time : \", time.time() - start)"
   ]
  },
  {
   "cell_type": "code",
   "execution_count": 15,
   "metadata": {},
   "outputs": [
    {
     "name": "stdout",
     "output_type": "stream",
     "text": [
      "Train on 630 samples, validate on 71 samples\n",
      "Epoch 1/40\n",
      "630/630 [==============================] - 3s 5ms/step - loss: 1.9602 - val_loss: 1.8591\n",
      "Epoch 2/40\n",
      "630/630 [==============================] - 2s 3ms/step - loss: 1.5120 - val_loss: 1.5699\n",
      "Epoch 3/40\n",
      "630/630 [==============================] - 2s 3ms/step - loss: 1.2855 - val_loss: 1.4138\n",
      "Epoch 4/40\n",
      "630/630 [==============================] - 2s 3ms/step - loss: 1.1676 - val_loss: 1.3346\n",
      "Epoch 5/40\n",
      "630/630 [==============================] - 2s 3ms/step - loss: 1.1054 - val_loss: 1.2946\n",
      "Epoch 6/40\n",
      "630/630 [==============================] - 2s 3ms/step - loss: 1.0736 - val_loss: 1.2801\n",
      "Epoch 7/40\n",
      "630/630 [==============================] - 2s 3ms/step - loss: 1.0573 - val_loss: 1.2622\n",
      "Epoch 8/40\n",
      "630/630 [==============================] - 2s 3ms/step - loss: 1.0479 - val_loss: 1.2504\n",
      "Epoch 9/40\n",
      "630/630 [==============================] - 2s 3ms/step - loss: 1.0432 - val_loss: 1.2524\n",
      "Epoch 10/40\n",
      "630/630 [==============================] - 2s 3ms/step - loss: 1.0406 - val_loss: 1.2513\n",
      "Epoch 11/40\n",
      "630/630 [==============================] - 2s 3ms/step - loss: 1.0377 - val_loss: 1.2476\n",
      "Epoch 12/40\n",
      "630/630 [==============================] - 2s 4ms/step - loss: 1.0354 - val_loss: 1.2469\n",
      "Epoch 13/40\n",
      "630/630 [==============================] - 2s 4ms/step - loss: 1.0333 - val_loss: 1.2446\n",
      "Epoch 14/40\n",
      "630/630 [==============================] - 2s 3ms/step - loss: 1.0301 - val_loss: 1.2487\n",
      "Epoch 15/40\n",
      "630/630 [==============================] - 2s 3ms/step - loss: 1.0255 - val_loss: 1.2431\n",
      "Epoch 16/40\n",
      "630/630 [==============================] - 2s 3ms/step - loss: 1.0208 - val_loss: 1.2528\n",
      "Epoch 17/40\n",
      "630/630 [==============================] - 2s 3ms/step - loss: 1.0152 - val_loss: 1.2456\n",
      "Epoch 18/40\n",
      "630/630 [==============================] - 2s 3ms/step - loss: 1.0077 - val_loss: 1.2567\n",
      "Epoch 19/40\n",
      "630/630 [==============================] - 2s 3ms/step - loss: 1.0009 - val_loss: 1.2380\n",
      "Epoch 20/40\n",
      "630/630 [==============================] - 2s 3ms/step - loss: 0.9965 - val_loss: 1.2424\n",
      "Epoch 21/40\n",
      "630/630 [==============================] - 2s 3ms/step - loss: 0.9920 - val_loss: 1.2483\n",
      "Epoch 22/40\n",
      "630/630 [==============================] - 2s 3ms/step - loss: 0.9890 - val_loss: 1.2630\n",
      "Epoch 23/40\n",
      "630/630 [==============================] - 2s 4ms/step - loss: 0.9861 - val_loss: 1.2468\n",
      "Epoch 24/40\n",
      "630/630 [==============================] - 2s 3ms/step - loss: 0.9832 - val_loss: 1.2511\n",
      "Epoch 25/40\n",
      "630/630 [==============================] - 2s 3ms/step - loss: 0.9798 - val_loss: 1.2714\n",
      "Epoch 26/40\n",
      "630/630 [==============================] - 2s 4ms/step - loss: 0.9773 - val_loss: 1.2665\n",
      "Epoch 27/40\n",
      "630/630 [==============================] - 3s 4ms/step - loss: 0.9753 - val_loss: 1.2661\n",
      "Epoch 28/40\n",
      "630/630 [==============================] - 2s 4ms/step - loss: 0.9732 - val_loss: 1.2735\n",
      "Epoch 29/40\n",
      "630/630 [==============================] - 2s 4ms/step - loss: 0.9712 - val_loss: 1.2643\n",
      "Epoch 30/40\n",
      "630/630 [==============================] - 2s 3ms/step - loss: 0.9698 - val_loss: 1.2621\n",
      "Epoch 31/40\n",
      "630/630 [==============================] - 2s 3ms/step - loss: 0.9676 - val_loss: 1.2740\n",
      "Epoch 32/40\n",
      "630/630 [==============================] - 3s 4ms/step - loss: 0.9680 - val_loss: 1.2575\n",
      "Epoch 33/40\n",
      "630/630 [==============================] - 2s 3ms/step - loss: 0.9654 - val_loss: 1.2680\n",
      "Epoch 34/40\n",
      "630/630 [==============================] - 2s 3ms/step - loss: 0.9643 - val_loss: 1.2606\n",
      "Epoch 35/40\n",
      "630/630 [==============================] - 2s 3ms/step - loss: 0.9631 - val_loss: 1.2533\n",
      "Epoch 36/40\n",
      "630/630 [==============================] - 2s 3ms/step - loss: 0.9619 - val_loss: 1.2682\n",
      "Epoch 37/40\n",
      "630/630 [==============================] - 2s 4ms/step - loss: 0.9614 - val_loss: 1.2749\n",
      "Epoch 38/40\n",
      "630/630 [==============================] - 2s 3ms/step - loss: 0.9598 - val_loss: 1.2631\n",
      "Epoch 39/40\n",
      "630/630 [==============================] - 2s 3ms/step - loss: 0.9591 - val_loss: 1.2577\n",
      "Epoch 40/40\n",
      "630/630 [==============================] - 2s 3ms/step - loss: 0.9579 - val_loss: 1.2670\n"
     ]
    }
   ],
   "source": [
    "opt = Adam(lr=0.001, clipnorm=1.0)# gradient clipping to avoid exploding gradients\n",
    "model_scaled_14 = Sequential()\n",
    "model_scaled_14.add(LSTM(256, return_sequences = True, input_shape = (14, 93)))\n",
    "model_scaled_14.add(Dropout(0.5))\n",
    "model_scaled_14.add(LSTM(128,input_shape = (14, 93)))\n",
    "model_scaled_14.add(Dense(93,kernel_regularizer='l2'))# add L2 norm to regularize data, another way to avoid exploding gradients\n",
    "model_scaled_14.compile(loss = 'mean_absolute_error', optimizer = opt)\n",
    "model_scaled_result_14 = model_scaled_14.fit(train_X_all_14, train_y_all_14, epochs = 40, batch_size = 20,validation_split=0.1)\n",
    "model_scaled_14.save_weights('LSTM_window14.h5')"
   ]
  },
  {
   "cell_type": "code",
   "execution_count": 16,
   "metadata": {},
   "outputs": [
    {
     "data": {
      "image/png": "[encoded data removed]",
      "text/plain": [
       "<Figure size 432x288 with 1 Axes>"
      ]
     },
     "metadata": {
      "needs_background": "light"
     },
     "output_type": "display_data"
    }
   ],
   "source": [
    "plt.plot(model_scaled_result_50.history['loss'])\n",
    "plt.plot(model_scaled_result_50.history['val_loss'])\n",
    "plt.plot(model_scaled_result_30.history['loss'])\n",
    "plt.plot(model_scaled_result_30.history['val_loss'])\n",
    "plt.plot(model_scaled_result_21.history['loss'])\n",
    "plt.plot(model_scaled_result_21.history['val_loss'])\n",
    "plt.plot(model_scaled_result_14.history['loss'])\n",
    "plt.plot(model_scaled_result_14.history['val_loss'])\n",
    "#plt.plot(model_scaled_result_21_final.history['loss'])\n",
    "#plt.plot(model_scaled_result_21_final.history['val_loss'])\n",
    "plt.title('model loss(MAE): train v.s. validation')\n",
    "plt.ylabel('loss')\n",
    "plt.xlabel('epoch')\n",
    "plt.legend(['train_50days', 'validation_50days','train_30days', 'validation_30days','train_21days','validation_21days','train_14days', 'validation_14days'], loc='upper right')\n",
    "#,'train_final','validation_final'\n",
    "plt.show()"
   ]
  },
  {
   "cell_type": "markdown",
   "metadata": {},
   "source": [
    "The model is overfitting when the validation loss is increasing while the training loss is decreasing.<br>\n",
    "And it's overfitting when moving window 14 days<br>\n",
    "\n",
    "Dealing with such a Model:<br>\n",
    "\n",
    "Data Preprocessing: Standardizing and Normalizing the data.<br>\n",
    "Model compelxity: Check if the model is too complex. Add dropout, reduce number of layers or number of neurons in each layer.<br>\n",
    "Learning Rate and Decay Rate: Reduce the learning rate, a good starting value is usually between 0.0005 to 0.001. Also consider a decay rate of 1e-6.<br>\n",
    "\n",
    "**change the learning rate from 0.01 to 0.001 solved this issue**"
   ]
  },
  {
   "cell_type": "markdown",
   "metadata": {},
   "source": [
    "Choose Epoch = 10, Given moving window 21 days"
   ]
  },
  {
   "cell_type": "code",
   "execution_count": 20,
   "metadata": {},
   "outputs": [
    {
     "name": "stdout",
     "output_type": "stream",
     "text": [
      "Train on 624 samples, validate on 70 samples\n",
      "Epoch 1/10\n",
      "624/624 [==============================] - 6s 10ms/step - loss: 1.7572 - val_loss: 1.5595\n",
      "Epoch 2/10\n",
      "624/624 [==============================] - 5s 8ms/step - loss: 1.2467 - val_loss: 1.3262\n",
      "Epoch 3/10\n",
      "624/624 [==============================] - 5s 8ms/step - loss: 1.1043 - val_loss: 1.2620\n",
      "Epoch 4/10\n",
      "624/624 [==============================] - 5s 8ms/step - loss: 1.0633 - val_loss: 1.2502\n",
      "Epoch 5/10\n",
      "624/624 [==============================] - 5s 8ms/step - loss: 1.0506 - val_loss: 1.2370\n",
      "Epoch 6/10\n",
      "624/624 [==============================] - 5s 8ms/step - loss: 1.0457 - val_loss: 1.2356\n",
      "Epoch 7/10\n",
      "624/624 [==============================] - 5s 8ms/step - loss: 1.0427 - val_loss: 1.2272\n",
      "Epoch 8/10\n",
      "624/624 [==============================] - 5s 8ms/step - loss: 1.0404 - val_loss: 1.2314\n",
      "Epoch 9/10\n",
      "624/624 [==============================] - 5s 8ms/step - loss: 1.0390 - val_loss: 1.2308\n",
      "Epoch 10/10\n",
      "624/624 [==============================] - 5s 8ms/step - loss: 1.0375 - val_loss: 1.2265\n",
      "> Compilation Time :  55.07464671134949\n"
     ]
    }
   ],
   "source": [
    "start = time.time()\n",
    "opt = Adam(lr=0.001, clipnorm=1.0)# gradient clipping to avoid exploding gradients\n",
    "model_scaled_21_10batch = Sequential()\n",
    "model_scaled_21_10batch.add(LSTM(256, return_sequences = True, input_shape = (21, 93)))\n",
    "model_scaled_21_10batch.add(Dropout(0.5))\n",
    "model_scaled_21_10batch.add(LSTM(128,input_shape = (21, 93)))\n",
    "model_scaled_21_10batch.add(Dense(93,kernel_regularizer='l2'))# add L2 norm to regularize data, another way to avoid exploding gradients\n",
    "model_scaled_21_10batch.compile(loss = 'mean_absolute_error', optimizer = opt)\n",
    "model_scaled_result_21_10batch = model_scaled_21_10batch.fit(train_X_all_21, train_y_all_21, epochs = 10, batch_size = 10,validation_split=0.1)\n",
    "model_scaled_21_10batch.save_weights('LSTM_window21_10batch.h5')\n",
    "print(\"> Compilation Time : \", time.time() - start)"
   ]
  },
  {
   "cell_type": "code",
   "execution_count": 25,
   "metadata": {},
   "outputs": [
    {
     "name": "stdout",
     "output_type": "stream",
     "text": [
      "Train on 624 samples, validate on 70 samples\n",
      "Epoch 1/10\n",
      "624/624 [==============================] - 4s 6ms/step - loss: 2.0630 - val_loss: 1.9876\n",
      "Epoch 2/10\n",
      "624/624 [==============================] - 2s 4ms/step - loss: 1.6953 - val_loss: 1.7280\n",
      "Epoch 3/10\n",
      "624/624 [==============================] - 2s 4ms/step - loss: 1.4695 - val_loss: 1.5544\n",
      "Epoch 4/10\n",
      "624/624 [==============================] - 2s 4ms/step - loss: 1.3211 - val_loss: 1.4405\n",
      "Epoch 5/10\n",
      "624/624 [==============================] - 2s 4ms/step - loss: 1.2233 - val_loss: 1.3647\n",
      "Epoch 6/10\n",
      "624/624 [==============================] - 2s 4ms/step - loss: 1.1591 - val_loss: 1.3194\n",
      "Epoch 7/10\n",
      "624/624 [==============================] - 3s 4ms/step - loss: 1.1173 - val_loss: 1.2885\n",
      "Epoch 8/10\n",
      "624/624 [==============================] - 2s 4ms/step - loss: 1.0901 - val_loss: 1.2710\n",
      "Epoch 9/10\n",
      "624/624 [==============================] - 2s 4ms/step - loss: 1.0731 - val_loss: 1.2622\n",
      "Epoch 10/10\n",
      "624/624 [==============================] - 2s 4ms/step - loss: 1.0626 - val_loss: 1.2506\n",
      "> Compilation Time :  29.627573490142822\n"
     ]
    }
   ],
   "source": [
    "start = time.time()\n",
    "opt = Adam(lr=0.001, clipnorm=1.0)# gradient clipping to avoid exploding gradients\n",
    "model_scaled_21_30batch = Sequential()\n",
    "model_scaled_21_30batch.add(LSTM(256, return_sequences = True, input_shape = (21, 93)))\n",
    "model_scaled_21_30batch.add(Dropout(0.5))\n",
    "model_scaled_21_30batch.add(LSTM(128,input_shape = (21, 93)))\n",
    "model_scaled_21_30batch.add(Dense(93,kernel_regularizer='l2'))# add L2 norm to regularize data, another way to avoid exploding gradients\n",
    "model_scaled_21_30batch.compile(loss = 'mean_absolute_error', optimizer = opt)\n",
    "model_scaled_result_21_30batch = model_scaled_21_30batch.fit(train_X_all_21, train_y_all_21, epochs = 10, batch_size = 30,validation_split=0.1)\n",
    "model_scaled_21_30batch.save_weights('LSTM_window21_30batch.h5')\n",
    "print(\"> Compilation Time : \", time.time() - start)"
   ]
  },
  {
   "cell_type": "code",
   "execution_count": 18,
   "metadata": {},
   "outputs": [
    {
     "ename": "NameError",
     "evalue": "name 'model_scaled_result_21_10batch' is not defined",
     "output_type": "error",
     "traceback": [
      "\u001b[1;31m---------------------------------------------------------------------------\u001b[0m",
      "\u001b[1;31mNameError\u001b[0m                                 Traceback (most recent call last)",
      "\u001b[1;32m<ipython-input-18-dc00a3a2d15a>\u001b[0m in \u001b[0;36m<module>\u001b[1;34m\u001b[0m\n\u001b[0;32m      1\u001b[0m \u001b[0mplt\u001b[0m\u001b[1;33m.\u001b[0m\u001b[0mplot\u001b[0m\u001b[1;33m(\u001b[0m\u001b[0mmodel_scaled_result_21\u001b[0m\u001b[1;33m.\u001b[0m\u001b[0mhistory\u001b[0m\u001b[1;33m[\u001b[0m\u001b[1;34m'loss'\u001b[0m\u001b[1;33m]\u001b[0m\u001b[1;33m)\u001b[0m\u001b[1;33m\u001b[0m\u001b[1;33m\u001b[0m\u001b[0m\n\u001b[0;32m      2\u001b[0m \u001b[0mplt\u001b[0m\u001b[1;33m.\u001b[0m\u001b[0mplot\u001b[0m\u001b[1;33m(\u001b[0m\u001b[0mmodel_scaled_result_21\u001b[0m\u001b[1;33m.\u001b[0m\u001b[0mhistory\u001b[0m\u001b[1;33m[\u001b[0m\u001b[1;34m'val_loss'\u001b[0m\u001b[1;33m]\u001b[0m\u001b[1;33m)\u001b[0m\u001b[1;33m\u001b[0m\u001b[1;33m\u001b[0m\u001b[0m\n\u001b[1;32m----> 3\u001b[1;33m \u001b[0mplt\u001b[0m\u001b[1;33m.\u001b[0m\u001b[0mplot\u001b[0m\u001b[1;33m(\u001b[0m\u001b[0mmodel_scaled_result_21_10batch\u001b[0m\u001b[1;33m.\u001b[0m\u001b[0mhistory\u001b[0m\u001b[1;33m[\u001b[0m\u001b[1;34m'loss'\u001b[0m\u001b[1;33m]\u001b[0m\u001b[1;33m)\u001b[0m\u001b[1;33m\u001b[0m\u001b[1;33m\u001b[0m\u001b[0m\n\u001b[0m\u001b[0;32m      4\u001b[0m \u001b[0mplt\u001b[0m\u001b[1;33m.\u001b[0m\u001b[0mplot\u001b[0m\u001b[1;33m(\u001b[0m\u001b[0mmodel_scaled_result_21_10batch\u001b[0m\u001b[1;33m.\u001b[0m\u001b[0mhistory\u001b[0m\u001b[1;33m[\u001b[0m\u001b[1;34m'val_loss'\u001b[0m\u001b[1;33m]\u001b[0m\u001b[1;33m)\u001b[0m\u001b[1;33m\u001b[0m\u001b[1;33m\u001b[0m\u001b[0m\n\u001b[0;32m      5\u001b[0m \u001b[0mplt\u001b[0m\u001b[1;33m.\u001b[0m\u001b[0mtitle\u001b[0m\u001b[1;33m(\u001b[0m\u001b[1;34m'model train v.s. loss'\u001b[0m\u001b[1;33m)\u001b[0m\u001b[1;33m\u001b[0m\u001b[1;33m\u001b[0m\u001b[0m\n",
      "\u001b[1;31mNameError\u001b[0m: name 'model_scaled_result_21_10batch' is not defined"
     ]
    },
    {
     "data": {
      "image/png": "[encoded data removed]",
      "text/plain": [
       "<Figure size 432x288 with 1 Axes>"
      ]
     },
     "metadata": {
      "needs_background": "light"
     },
     "output_type": "display_data"
    }
   ],
   "source": [
    "plt.plot(model_scaled_result_21.history['loss'])\n",
    "plt.plot(model_scaled_result_21.history['val_loss'])\n",
    "plt.plot(model_scaled_result_21_10batch.history['loss'])\n",
    "plt.plot(model_scaled_result_21_10batch.history['val_loss'])\n",
    "plt.title('model train v.s. loss')\n",
    "plt.ylabel('loss')\n",
    "plt.xlabel('epoch')\n",
    "plt.legend(['train_21days','validation_21days','train_final_smallerbatch','validation_final_smallerbatch'], loc='upper right')\n",
    "\n",
    "plt.show()"
   ]
  },
  {
   "cell_type": "code",
   "execution_count": null,
   "metadata": {},
   "outputs": [],
   "source": [
    "plt.plot(model_scaled_result_21.history['loss'])\n",
    "plt.plot(model_scaled_result_21.history['val_loss'])\n",
    "plt.plot(model_scaled_result_21_30batch.history['loss'])\n",
    "plt.plot(model_scaled_result_21_30batch.history['val_loss'])\n",
    "plt.title('model train v.s. loss')\n",
    "plt.ylabel('loss')\n",
    "plt.xlabel('epoch')\n",
    "plt.legend(['train_21days','validation_21days','train_final_largerbatch','validation_final_largerbatch'], loc='upper right')\n",
    "\n",
    "plt.show()"
   ]
  },
  {
   "cell_type": "markdown",
   "metadata": {},
   "source": [
    "With epoch = 10, moving window 21 days, smaller batch loss falls earlier but take more time to run.<br>\n",
    "55s for 10 batch model; 34s for 20 batch to run; 29s for 30 batch to run. "
   ]
  },
  {
   "cell_type": "code",
   "execution_count": 121,
   "metadata": {},
   "outputs": [
    {
     "name": "stdout",
     "output_type": "stream",
     "text": [
      "Train on 624 samples, validate on 70 samples\n",
      "Epoch 1/10\n",
      "624/624 [==============================] - 4s 7ms/step - loss: nan - val_loss: nan\n",
      "Epoch 2/10\n",
      "624/624 [==============================] - 3s 4ms/step - loss: nan - val_loss: nan\n",
      "Epoch 3/10\n",
      "624/624 [==============================] - 3s 5ms/step - loss: nan - val_loss: nan\n",
      "Epoch 4/10\n",
      "624/624 [==============================] - 3s 5ms/step - loss: nan - val_loss: nan\n",
      "Epoch 5/10\n",
      "624/624 [==============================] - 3s 4ms/step - loss: nan - val_loss: nan\n",
      "Epoch 6/10\n",
      "624/624 [==============================] - 3s 4ms/step - loss: nan - val_loss: nan\n",
      "Epoch 7/10\n",
      "624/624 [==============================] - 3s 4ms/step - loss: nan - val_loss: nan\n",
      "Epoch 8/10\n",
      "624/624 [==============================] - 3s 4ms/step - loss: nan - val_loss: nan\n",
      "Epoch 9/10\n",
      "624/624 [==============================] - 3s 4ms/step - loss: nan - val_loss: nan\n",
      "Epoch 10/10\n",
      "624/624 [==============================] - 3s 4ms/step - loss: nan - val_loss: nan\n",
      "> Compilation Time :  33.71479868888855\n"
     ]
    }
   ],
   "source": [
    "# epoch = 10, moving window 21 days, batch = 30 \n",
    "# training with facility features\n",
    "start = time.time()\n",
    "opt = Adam(lr=0.001, clipnorm=1.0)# gradient clipping to avoid exploding gradients\n",
    "model_facility = Sequential()\n",
    "model_facility.add(LSTM(256, return_sequences = True, input_shape = (24, 93)))\n",
    "model_facility.add(Dropout(0.5))\n",
    "model_facility.add(LSTM(128,input_shape = (24, 93)))\n",
    "model_facility.add(Dense(93,kernel_regularizer='l2'))# add L2 norm to regularize data, another way to avoid exploding gradients\n",
    "model_facility.compile(loss = 'mean_absolute_error', optimizer = opt)\n",
    "model_facility_result = model_facility.fit(train_X_21_facility, train_y_21_facility, epochs = 10, batch_size = 30,validation_split=0.1)\n",
    "model_facility.save_weights('LSTM_with_facility.h5')\n",
    "print(\"> Compilation Time : \", time.time() - start)"
   ]
  },
  {
   "cell_type": "code",
   "execution_count": 26,
   "metadata": {},
   "outputs": [
    {
     "data": {
      "text/plain": [
       "(42, 93)"
      ]
     },
     "execution_count": 26,
     "metadata": {},
     "output_type": "execute_result"
    }
   ],
   "source": [
    "# Doing a prediction on all the test data at once\n",
    "preds = model_scaled_21_30batch.predict(test_X_all_21)\n",
    "#preds = scaler.inverse_transform(preds)\n",
    "actuals = test_y_all_21\n",
    "#for i in range(preds.shape[1]): \n",
    "#    preds_single = scaler.inverse_transform(preds[:,i].reshape(1, -1))\n",
    "#    preds[:,i] = preds_single\n",
    "#    actuals_single = scaler.inverse_transform(test_y_all[:,i].reshape(1, -1))\n",
    "#    actuals[:,i] = actuals_single\n",
    "#actuals = test_y\n",
    "preds.shape"
   ]
  },
  {
   "cell_type": "code",
   "execution_count": 27,
   "metadata": {},
   "outputs": [],
   "source": [
    "def moving_test_window_preds(n_future_preds):\n",
    "\n",
    "    ''' n_future_preds - Represents the number of future predictions we want to make\n",
    "                         This coincides with the number of windows that we will move forward\n",
    "                         on the test data\n",
    "    '''\n",
    "    preds_moving = []                                    # Use this to store the prediction made on each test window\n",
    "    test_window = test_X_all_21[0,:]\n",
    "    moving_test_window = test_window.reshape(1,test_window.shape[0],test_window.shape[1]) # (1,21,93)\n",
    "    #moving_test_window = [test_window.tolist()]          # Creating the first test window\n",
    "    #moving_test_window = np.array(moving_test_window)    # Making it an numpy array\n",
    "    \n",
    "    for i in range(n_future_preds):\n",
    "        preds_one_step = model_scaled_21_30batch.predict(moving_test_window) # Note that this is already a scaled prediction so no need to rescale this\n",
    "        preds_moving.append(preds_one_step[0,:]) # get the value from the numpy 2D array and append to predictions\n",
    "        preds_one_step = preds_one_step.reshape(1,preds_one_step.shape[0],preds_one_step.shape[1]) # Reshaping the prediction to 3D array for concatenation with moving test window\n",
    "        moving_test_window = np.concatenate((moving_test_window[:,1:,:], preds_one_step), axis=1) # This is the new moving test window, where the first element from the window has been removed and the prediction has been appended to the end\n",
    "        \n",
    "    #preds_moving = scaler.inverse_transform(np.array(preds_moving).reshape(-1,1))\n",
    "    \n",
    "    return np.array(preds_moving)"
   ]
  },
  {
   "cell_type": "code",
   "execution_count": 28,
   "metadata": {},
   "outputs": [
    {
     "data": {
      "text/plain": [
       "(42, 93)"
      ]
     },
     "execution_count": 28,
     "metadata": {},
     "output_type": "execute_result"
    }
   ],
   "source": [
    "predictions = moving_test_window_preds(42)\n",
    "predictions.shape"
   ]
  },
  {
   "cell_type": "code",
   "execution_count": 31,
   "metadata": {},
   "outputs": [
    {
     "data": {
      "image/png": "[encoded data removed]",
      "text/plain": [
       "<Figure size 432x288 with 1 Axes>"
      ]
     },
     "metadata": {
      "needs_background": "light"
     },
     "output_type": "display_data"
    },
    {
     "data": {
      "image/png": "[encoded data removed]",
      "text/plain": [
       "<Figure size 432x288 with 1 Axes>"
      ]
     },
     "metadata": {
      "needs_background": "light"
     },
     "output_type": "display_data"
    },
    {
     "data": {
      "image/png": "[encoded data removed]",
      "text/plain": [
       "<Figure size 432x288 with 1 Axes>"
      ]
     },
     "metadata": {
      "needs_background": "light"
     },
     "output_type": "display_data"
    }
   ],
   "source": [
    "TANK_ID = 34508\n",
    "CT_features_preds = CT_features.copy() \n",
    "CT_features_preds_moving = CT_features.copy() \n",
    "\n",
    "CT_features_preds[TANK_ID].iloc[nrow+window_size:] = predictions[:,4].flatten()\n",
    "#CT_features_preds_moving[TANK_ID].iloc[nrow+window_size:] = preds_moving.flatten()\n",
    "\n",
    "plt.plot(CT[TANK_ID], label = \"TANK Value\")\n",
    "plt.title('Tank 34508 ')\n",
    "plt.xlabel('Time')\n",
    "plt.ylabel('Values (Gal)')\n",
    "plt.xticks(rotation=45)\n",
    "plt.legend()\n",
    "plt.show()\n",
    "plt.plot(CT_features_preds[TANK_ID].cumsum() + CT[TANK_ID].iloc[1],label= \"predict_consumption\" )\n",
    "plt.plot(CT_features[TANK_ID].cumsum()+ CT[TANK_ID].iloc[1],label = \"actual_consumption\")\n",
    "plt.title('Tank 34508 ')\n",
    "plt.xlabel('Time')\n",
    "plt.ylabel('Values (Gal)')\n",
    "plt.xticks(rotation=45)\n",
    "plt.legend()\n",
    "plt.show()\n",
    "plt.plot(predictions[:,4].cumsum(),label='predict_consumption')\n",
    "plt.plot(CT_features.iloc[nrow+window_size:,4].to_numpy().cumsum(),label = 'acutal_consumption')\n",
    "#plt.plot(actuals[:,4].cumsum(),label = 'actuals')\n",
    "\n",
    "plt.legend()\n",
    "plt.title('42 days tank level forecast')\n",
    "plt.xlabel('Time (Day)')\n",
    "plt.ylabel('Values (Gal)')\n",
    "plt.show()"
   ]
  },
  {
   "cell_type": "markdown",
   "metadata": {},
   "source": [
    "negative consumption : chemical is leaving the tanks<br>\n",
    "separate tank value with consumptions"
   ]
  },
  {
   "cell_type": "code",
   "execution_count": 118,
   "metadata": {},
   "outputs": [
    {
     "data": {
      "text/plain": [
       "MeasurementDate\n",
       "2018-05-13    72.907630\n",
       "2018-05-14    72.460020\n",
       "2018-05-15    71.517785\n",
       "2018-05-16    70.540973\n",
       "2018-05-17    69.531030\n",
       "                ...    \n",
       "2020-06-03     0.725531\n",
       "2020-06-04    31.486241\n",
       "2020-06-05    47.906408\n",
       "2020-06-06    46.115715\n",
       "2020-06-07    44.481446\n",
       "Name: 228669, Length: 757, dtype: float64"
      ]
     },
     "execution_count": 118,
     "metadata": {},
     "output_type": "execute_result"
    }
   ],
   "source": [
    "CT.iloc[:,43]"
   ]
  },
  {
   "cell_type": "code",
   "execution_count": 176,
   "metadata": {},
   "outputs": [
    {
     "data": {
      "image/png": "[encoded data removed]",
      "text/plain": [
       "<Figure size 432x288 with 1 Axes>"
      ]
     },
     "metadata": {
      "needs_background": "light"
     },
     "output_type": "display_data"
    },
    {
     "data": {
      "image/png": "[encoded data removed]",
      "text/plain": [
       "<Figure size 432x288 with 1 Axes>"
      ]
     },
     "metadata": {
      "needs_background": "light"
     },
     "output_type": "display_data"
    }
   ],
   "source": [
    "TANK_ID = 228669\n",
    "CT_features_preds = CT_features.copy() \n",
    "#CT_features_preds_moving = CT_features.copy() \n",
    "\n",
    "CT_features_preds[TANK_ID].iloc[nrow+window_size:] = predictions[:,43].flatten()\n",
    "#CT_features_preds_moving[TANK_ID].iloc[nrow+window_size:] = preds_moving.flatten()\n",
    "\n",
    "plt.plot(CT[TANK_ID], label = \"TANK Value\")\n",
    "plt.plot(CT_features_preds[TANK_ID].cumsum() + CT[TANK_ID].iloc[1],label= \"preds_consumption\" )\n",
    "#plt.plot(CT_features_preds_moving[TANK_ID].cumsum()+ CT[TANK_ID].iloc[1],label = \"preds_moving_consumption\")\n",
    "plt.plot(CT_features[TANK_ID].cumsum()+ CT[TANK_ID].iloc[1],label = \"actual_consumption\")\n",
    "plt.title('Tank 228669 ')\n",
    "plt.xlabel('Time')\n",
    "plt.ylabel('Values (Gal)')\n",
    "plt.xticks(rotation=45)\n",
    "plt.legend()\n",
    "plt.show()\n",
    "plt.plot(CT_features.iloc[nrow+window_size:,43].to_numpy().cumsum(),label = 'acutal_consumption')\n",
    "#plt.plot(actuals[:,43].cumsum(),label = 'actuals')\n",
    "plt.plot(predictions[:,43].cumsum(),label='preds')\n",
    "#plt.plot(preds_moving.cumsum(),label = 'preds_moving')\n",
    "plt.legend()\n",
    "plt.title('Tank 228669 ')\n",
    "plt.xlabel('Time (Day)')\n",
    "plt.ylabel('Values (Gal)')\n",
    "plt.show()"
   ]
  },
  {
   "cell_type": "code",
   "execution_count": 121,
   "metadata": {},
   "outputs": [
    {
     "data": {
      "text/plain": [
       "MeasurementDate\n",
       "2018-05-13      0.000000\n",
       "2018-05-14      0.000000\n",
       "2018-05-15      0.000000\n",
       "2018-05-16      0.000000\n",
       "2018-05-17      0.000000\n",
       "                 ...    \n",
       "2020-06-03    122.479997\n",
       "2020-06-04    119.637802\n",
       "2020-06-05    116.666462\n",
       "2020-06-06    114.209138\n",
       "2020-06-07    112.427413\n",
       "Name: 517921, Length: 757, dtype: float64"
      ]
     },
     "execution_count": 121,
     "metadata": {},
     "output_type": "execute_result"
    }
   ],
   "source": [
    "CT.iloc[:,90]"
   ]
  },
  {
   "cell_type": "code",
   "execution_count": 177,
   "metadata": {},
   "outputs": [
    {
     "data": {
      "image/png": "[encoded data removed]",
      "text/plain": [
       "<Figure size 432x288 with 1 Axes>"
      ]
     },
     "metadata": {
      "needs_background": "light"
     },
     "output_type": "display_data"
    },
    {
     "data": {
      "image/png": "[encoded data removed]",
      "text/plain": [
       "<Figure size 432x288 with 1 Axes>"
      ]
     },
     "metadata": {
      "needs_background": "light"
     },
     "output_type": "display_data"
    }
   ],
   "source": [
    "TANK_ID = 517921\n",
    "CT_features_preds = CT_features.copy() \n",
    "#CT_features_preds_moving = CT_features.copy() \n",
    "\n",
    "CT_features_preds[TANK_ID].iloc[nrow+window_size:] = predictions[:,90].flatten()\n",
    "#CT_features_preds_moving[TANK_ID].iloc[nrow+window_size:] = preds_moving.flatten()\n",
    "\n",
    "plt.plot(CT[TANK_ID], label = \"TANK Value\")\n",
    "plt.plot(CT_features_preds[TANK_ID].cumsum() + CT[TANK_ID].iloc[1],label= \"pred_consumption\" )\n",
    "#plt.plot(CT_features_preds_moving[TANK_ID].cumsum()+ CT[TANK_ID].iloc[1],label = \"preds_moving_consumption\")\n",
    "plt.plot(CT_features[TANK_ID].cumsum()+ CT[TANK_ID].iloc[1],label = \"actual_consumption\")\n",
    "plt.title('Tank 517921 ')\n",
    "plt.xlabel('Time')\n",
    "plt.ylabel('Values (Gal)')\n",
    "plt.xticks(rotation=45)\n",
    "plt.legend()\n",
    "plt.show()\n",
    "plt.plot(CT_features.iloc[nrow+window_size:,90].to_numpy().cumsum(),label = 'acutal_consumption')\n",
    "#plt.plot(actuals[:,43].cumsum(),label = 'actuals')\n",
    "plt.plot(predictions[:,90].cumsum(),label='pred_consumption')\n",
    "#plt.plot(preds_moving.cumsum(),label = 'preds_moving')\n",
    "plt.legend()\n",
    "plt.title('Tank 517921 ')\n",
    "plt.xlabel('Time (Day)')\n",
    "plt.ylabel('Values (Gal)')\n",
    "plt.show()"
   ]
  },
  {
   "cell_type": "markdown",
   "metadata": {},
   "source": [
    "#### Compared with the unscaled data"
   ]
  },
  {
   "cell_type": "markdown",
   "metadata": {},
   "source": [
    "Data should be scaled and normalized"
   ]
  },
  {
   "cell_type": "code",
   "execution_count": 345,
   "metadata": {},
   "outputs": [],
   "source": [
    "def process_single_tank(series,window_size):    \n",
    "\n",
    "    series = pd.DataFrame(series)\n",
    "    series_s = series.copy()\n",
    "    for i in range(window_size):\n",
    "        series = pd.concat([series,series_s.shift(-(i+1))],axis =1)    \n",
    "    series.dropna(axis=0,inplace=True)\n",
    "    nrow = round(0.8*series.shape[0])\n",
    "    train = series.iloc[:nrow, :]\n",
    "    test = series.iloc[nrow:,:]\n",
    "    from sklearn.utils import shuffle\n",
    "    train = shuffle(train)\n",
    "\n",
    "    train_X = train.iloc[:,:-1]\n",
    "    train_y = train.iloc[:,-1]\n",
    "    test_X = test.iloc[:,:-1]\n",
    "    test_y = test.iloc[:,-1]\n",
    "    train_X = train_X.values\n",
    "    train_y = train_y.to_numpy().reshape(-1,1)\n",
    "    test_X = test_X.values\n",
    "    test_y = test_y.to_numpy().reshape(-1,1)\n",
    "\n",
    "    train_X = train_X.reshape(train_X.shape[0],train_X.shape[1],1)\n",
    "    test_X = test_X.reshape(test_X.shape[0],test_X.shape[1],1)\n",
    "    \n",
    "    return train_X,train_y,test_X,test_y\n",
    "\n"
   ]
  },
  {
   "cell_type": "code",
   "execution_count": 346,
   "metadata": {},
   "outputs": [],
   "source": [
    "window_size = 50\n",
    "#train_X_all =np.empty((566,window_size,1))\n",
    "#test_X_all = np.empty((141,window_size,1))\n",
    "#train_y_all = np.empty((566,1))\n",
    "#test_y_all = np.empty((141,1))\n",
    "train_X_all = None\n",
    "\n",
    "for column_name in CT_features: \n",
    "    series = CT_features[column_name].to_numpy().reshape(-1,1)\n",
    "    train_X,train_y,test_X,test_y = process_single_tank(series,window_size)\n",
    "    if train_X_all is None:\n",
    "        train_X_all = train_X\n",
    "        train_y_all = train_y\n",
    "        test_X_all = test_X\n",
    "        test_y_all = test_y\n",
    "    else:\n",
    "        train_X_all = np.concatenate([train_X_all, train_X], -1)\n",
    "        test_X_all = np.concatenate([test_X_all, test_X], -1)\n",
    "        train_y_all = np.concatenate([train_y_all, train_y], -1)\n",
    "        test_y_all = np.concatenate([test_y_all, test_y], -1)\n",
    "#train_y_all = np.transpose(train_y_all)\n",
    "#test_y_all = np.transpose(test_y_all)"
   ]
  },
  {
   "cell_type": "code",
   "execution_count": 241,
   "metadata": {},
   "outputs": [
    {
     "name": "stdout",
     "output_type": "stream",
     "text": [
      "Epoch 1/3\n",
      "566/566 [==============================] - 4s 7ms/step - loss: 1.3420\n",
      "Epoch 2/3\n",
      "566/566 [==============================] - 3s 6ms/step - loss: 1.0912\n",
      "Epoch 3/3\n",
      "566/566 [==============================] - 3s 6ms/step - loss: 1.0779\n"
     ]
    },
    {
     "data": {
      "text/plain": [
       "<keras.callbacks.callbacks.History at 0x2af0b86d828>"
      ]
     },
     "execution_count": 241,
     "metadata": {},
     "output_type": "execute_result"
    }
   ],
   "source": [
    "opt = Adam(lr=0.01, clipnorm=1.0)# gradient clipping to avoid exploding gradients\n",
    "model = Sequential()\n",
    "model.add(LSTM(256, return_sequences = True, input_shape = (50, 93)))\n",
    "model.add(LSTM(128,input_shape = (50, 93)))\n",
    "model.add(Dense(93,kernel_regularizer='l2'))# add L2 norm to regularize data, another way to avoid exploding gradients\n",
    "model.compile(loss = 'mean_absolute_error', optimizer = opt)\n",
    "model.fit(train_X_all, train_y_all, epochs = 3, batch_size = 20,validation_split=0.1)\n"
   ]
  },
  {
   "cell_type": "code",
   "execution_count": 413,
   "metadata": {},
   "outputs": [],
   "source": [
    "# Doing a prediction on all the test data at once\n",
    "preds = model.predict(test_X_all)\n",
    "actuals = test_y_all"
   ]
  },
  {
   "cell_type": "markdown",
   "metadata": {},
   "source": [
    "#### Metrics\n",
    "absolute inventory difference \n",
    "metrics:\n",
    "    what's a good forecast?\n",
    "    good for 2 days/ entire period time \n",
    "    what' total amount will be used in the 42 days\n",
    "    sign version(+/-) \n",
    "    mean absolute diviation is not a good idea \n",
    "    error at begin will be small but will grow in the end \n",
    "    good overall picture would be take look total amount of comsume/ predict or total of \n",
    "    predict total comsum / real total comsum \n",
    "    understand the metrics \n",
    "    \n",
    "    \n",
    "42 days: 21 day of tank is ordered to a tank is arrived \n",
    "  business requirement   2*maximum lead time long enough window to an order may happen \n",
    "\n",
    "logistics team \n",
    "that amount of time give them the ability to optimize the ordering process\n",
    "\n",
    "\n",
    "having some summerary "
   ]
  },
  {
   "cell_type": "code",
   "execution_count": 32,
   "metadata": {},
   "outputs": [
    {
     "name": "stdout",
     "output_type": "stream",
     "text": [
      "0.0\n"
     ]
    }
   ],
   "source": [
    "print(mean_absolute_error(test_y_all_21, CT_features.iloc[nrow+window_size:,]))"
   ]
  },
  {
   "cell_type": "code",
   "execution_count": 35,
   "metadata": {},
   "outputs": [
    {
     "data": {
      "text/plain": [
       "(42, 93)"
      ]
     },
     "execution_count": 35,
     "metadata": {},
     "output_type": "execute_result"
    }
   ],
   "source": [
    "Y.shape"
   ]
  },
  {
   "cell_type": "code",
   "execution_count": 34,
   "metadata": {},
   "outputs": [],
   "source": [
    "Y = CT_features.iloc[nrow+window_size:,]\n",
    "mse = mean_squared_error(Y,predictions)\n",
    "mae =mean_absolute_error(Y,predictions)\n",
    "abs_diff = abs(Y-predictions)\n",
    "diff_CT = Y-predictions"
   ]
  },
  {
   "cell_type": "code",
   "execution_count": 36,
   "metadata": {},
   "outputs": [],
   "source": [
    "total_abs_error = abs_diff.sum(axis=0) \n",
    "abs_total_error = abs(diff_CT.sum(axis=0))"
   ]
  },
  {
   "cell_type": "code",
   "execution_count": 37,
   "metadata": {},
   "outputs": [
    {
     "data": {
      "text/plain": [
       "30850      0.128158\n",
       "30851      5.374941\n",
       "30852     57.978999\n",
       "34507      1.423215\n",
       "34508      0.838981\n",
       "            ...    \n",
       "387311     3.238532\n",
       "516817     8.533242\n",
       "517921    46.465443\n",
       "544779     3.111010\n",
       "544783     0.436465\n",
       "Length: 93, dtype: float64"
      ]
     },
     "execution_count": 37,
     "metadata": {},
     "output_type": "execute_result"
    }
   ],
   "source": [
    "abs_total_error"
   ]
  },
  {
   "cell_type": "code",
   "execution_count": 38,
   "metadata": {},
   "outputs": [
    {
     "data": {
      "text/plain": [
       "30850      3.480842\n",
       "30851      6.542981\n",
       "30852     67.259987\n",
       "34507      1.767609\n",
       "34508      1.568949\n",
       "            ...    \n",
       "387311     4.099504\n",
       "516817     8.805035\n",
       "517921    46.465443\n",
       "544779     3.125774\n",
       "544783     0.811023\n",
       "Length: 93, dtype: float64"
      ]
     },
     "execution_count": 38,
     "metadata": {},
     "output_type": "execute_result"
    }
   ],
   "source": [
    "total_abs_error"
   ]
  },
  {
   "cell_type": "code",
   "execution_count": 184,
   "metadata": {},
   "outputs": [
    {
     "data": {
      "text/plain": [
       "Text(0, 0.5, 'total absolute error')"
      ]
     },
     "execution_count": 184,
     "metadata": {},
     "output_type": "execute_result"
    },
    {
     "data": {
      "image/png": "[encoded data removed]",
      "text/plain": [
       "<Figure size 432x288 with 1 Axes>"
      ]
     },
     "metadata": {
      "needs_background": "light"
     },
     "output_type": "display_data"
    }
   ],
   "source": [
    "plt.scatter(x =np.arange(93), y = total_abs_error)\n",
    "plt.title('scatter plot of total absolute error for each tank ')\n",
    "plt.xlabel('93 distinct tanks')\n",
    "plt.ylabel('total absolute error')\n"
   ]
  },
  {
   "cell_type": "code",
   "execution_count": 185,
   "metadata": {},
   "outputs": [
    {
     "data": {
      "text/html": [
       "<div>\n",
       "<style scoped>\n",
       "    .dataframe tbody tr th:only-of-type {\n",
       "        vertical-align: middle;\n",
       "    }\n",
       "\n",
       "    .dataframe tbody tr th {\n",
       "        vertical-align: top;\n",
       "    }\n",
       "\n",
       "    .dataframe thead th {\n",
       "        text-align: right;\n",
       "    }\n",
       "</style>\n",
       "<table border=\"1\" class=\"dataframe\">\n",
       "  <thead>\n",
       "    <tr style=\"text-align: right;\">\n",
       "      <th></th>\n",
       "      <th>30850</th>\n",
       "      <th>30851</th>\n",
       "      <th>30852</th>\n",
       "      <th>34507</th>\n",
       "      <th>34508</th>\n",
       "      <th>38357</th>\n",
       "      <th>40281</th>\n",
       "      <th>40283</th>\n",
       "      <th>40284</th>\n",
       "      <th>40886</th>\n",
       "      <th>...</th>\n",
       "      <th>387131</th>\n",
       "      <th>387175</th>\n",
       "      <th>387183</th>\n",
       "      <th>387309</th>\n",
       "      <th>387310</th>\n",
       "      <th>387311</th>\n",
       "      <th>516817</th>\n",
       "      <th>517921</th>\n",
       "      <th>544779</th>\n",
       "      <th>544783</th>\n",
       "    </tr>\n",
       "  </thead>\n",
       "  <tbody>\n",
       "    <tr>\n",
       "      <th>count</th>\n",
       "      <td>42.000000</td>\n",
       "      <td>42.000000</td>\n",
       "      <td>42.000000</td>\n",
       "      <td>42.000000</td>\n",
       "      <td>42.000000</td>\n",
       "      <td>42.000000</td>\n",
       "      <td>42.000000</td>\n",
       "      <td>42.000000</td>\n",
       "      <td>42.000000</td>\n",
       "      <td>42.000000</td>\n",
       "      <td>...</td>\n",
       "      <td>42.000000</td>\n",
       "      <td>4.200000e+01</td>\n",
       "      <td>4.200000e+01</td>\n",
       "      <td>42.000000</td>\n",
       "      <td>42.000000</td>\n",
       "      <td>42.000000</td>\n",
       "      <td>42.000000</td>\n",
       "      <td>42.000000</td>\n",
       "      <td>42.000000</td>\n",
       "      <td>42.000000</td>\n",
       "    </tr>\n",
       "    <tr>\n",
       "      <th>mean</th>\n",
       "      <td>0.106051</td>\n",
       "      <td>0.144574</td>\n",
       "      <td>1.624614</td>\n",
       "      <td>0.031429</td>\n",
       "      <td>0.028629</td>\n",
       "      <td>0.957032</td>\n",
       "      <td>0.064171</td>\n",
       "      <td>0.126091</td>\n",
       "      <td>0.407030</td>\n",
       "      <td>5.411845</td>\n",
       "      <td>...</td>\n",
       "      <td>14.126914</td>\n",
       "      <td>2.365623e+05</td>\n",
       "      <td>2.356155e+05</td>\n",
       "      <td>0.006627</td>\n",
       "      <td>0.174559</td>\n",
       "      <td>0.071247</td>\n",
       "      <td>0.211886</td>\n",
       "      <td>1.093543</td>\n",
       "      <td>0.066082</td>\n",
       "      <td>0.020764</td>\n",
       "    </tr>\n",
       "    <tr>\n",
       "      <th>std</th>\n",
       "      <td>0.084893</td>\n",
       "      <td>0.073668</td>\n",
       "      <td>7.403657</td>\n",
       "      <td>0.024182</td>\n",
       "      <td>0.031982</td>\n",
       "      <td>0.725442</td>\n",
       "      <td>0.047737</td>\n",
       "      <td>0.077241</td>\n",
       "      <td>0.763231</td>\n",
       "      <td>24.005184</td>\n",
       "      <td>...</td>\n",
       "      <td>31.851093</td>\n",
       "      <td>1.533075e+06</td>\n",
       "      <td>1.526948e+06</td>\n",
       "      <td>0.000446</td>\n",
       "      <td>0.165642</td>\n",
       "      <td>0.142970</td>\n",
       "      <td>0.152682</td>\n",
       "      <td>1.106017</td>\n",
       "      <td>0.100368</td>\n",
       "      <td>0.028729</td>\n",
       "    </tr>\n",
       "    <tr>\n",
       "      <th>min</th>\n",
       "      <td>0.002315</td>\n",
       "      <td>0.019278</td>\n",
       "      <td>0.100506</td>\n",
       "      <td>0.000165</td>\n",
       "      <td>0.000379</td>\n",
       "      <td>0.023471</td>\n",
       "      <td>0.000978</td>\n",
       "      <td>0.006701</td>\n",
       "      <td>0.000958</td>\n",
       "      <td>0.020924</td>\n",
       "      <td>...</td>\n",
       "      <td>0.000991</td>\n",
       "      <td>1.465415e-03</td>\n",
       "      <td>4.417104e-03</td>\n",
       "      <td>0.004255</td>\n",
       "      <td>0.007364</td>\n",
       "      <td>0.000009</td>\n",
       "      <td>0.008281</td>\n",
       "      <td>0.001379</td>\n",
       "      <td>0.013292</td>\n",
       "      <td>0.002592</td>\n",
       "    </tr>\n",
       "    <tr>\n",
       "      <th>25%</th>\n",
       "      <td>0.048817</td>\n",
       "      <td>0.082748</td>\n",
       "      <td>0.190138</td>\n",
       "      <td>0.015874</td>\n",
       "      <td>0.007126</td>\n",
       "      <td>0.390851</td>\n",
       "      <td>0.026799</td>\n",
       "      <td>0.062349</td>\n",
       "      <td>0.007772</td>\n",
       "      <td>0.050412</td>\n",
       "      <td>...</td>\n",
       "      <td>0.001129</td>\n",
       "      <td>1.525576e-03</td>\n",
       "      <td>5.892675e-03</td>\n",
       "      <td>0.006721</td>\n",
       "      <td>0.039820</td>\n",
       "      <td>0.000556</td>\n",
       "      <td>0.037191</td>\n",
       "      <td>0.003239</td>\n",
       "      <td>0.014315</td>\n",
       "      <td>0.009268</td>\n",
       "    </tr>\n",
       "    <tr>\n",
       "      <th>50%</th>\n",
       "      <td>0.081604</td>\n",
       "      <td>0.138968</td>\n",
       "      <td>0.198563</td>\n",
       "      <td>0.029159</td>\n",
       "      <td>0.013613</td>\n",
       "      <td>0.851018</td>\n",
       "      <td>0.054095</td>\n",
       "      <td>0.117481</td>\n",
       "      <td>0.128689</td>\n",
       "      <td>0.130186</td>\n",
       "      <td>...</td>\n",
       "      <td>1.316978</td>\n",
       "      <td>1.884916e+00</td>\n",
       "      <td>6.018320e-01</td>\n",
       "      <td>0.006781</td>\n",
       "      <td>0.115983</td>\n",
       "      <td>0.000588</td>\n",
       "      <td>0.221713</td>\n",
       "      <td>0.852589</td>\n",
       "      <td>0.014338</td>\n",
       "      <td>0.009330</td>\n",
       "    </tr>\n",
       "    <tr>\n",
       "      <th>75%</th>\n",
       "      <td>0.159680</td>\n",
       "      <td>0.200614</td>\n",
       "      <td>0.248617</td>\n",
       "      <td>0.042753</td>\n",
       "      <td>0.038489</td>\n",
       "      <td>1.353084</td>\n",
       "      <td>0.084591</td>\n",
       "      <td>0.180568</td>\n",
       "      <td>0.436619</td>\n",
       "      <td>0.581731</td>\n",
       "      <td>...</td>\n",
       "      <td>8.780619</td>\n",
       "      <td>7.760222e+00</td>\n",
       "      <td>4.699959e+00</td>\n",
       "      <td>0.006784</td>\n",
       "      <td>0.294780</td>\n",
       "      <td>0.000614</td>\n",
       "      <td>0.306104</td>\n",
       "      <td>1.770641</td>\n",
       "      <td>0.031161</td>\n",
       "      <td>0.009622</td>\n",
       "    </tr>\n",
       "    <tr>\n",
       "      <th>max</th>\n",
       "      <td>0.344186</td>\n",
       "      <td>0.285254</td>\n",
       "      <td>48.322208</td>\n",
       "      <td>0.109360</td>\n",
       "      <td>0.112831</td>\n",
       "      <td>3.197177</td>\n",
       "      <td>0.203536</td>\n",
       "      <td>0.323704</td>\n",
       "      <td>3.825650</td>\n",
       "      <td>150.876226</td>\n",
       "      <td>...</td>\n",
       "      <td>146.021468</td>\n",
       "      <td>9.935468e+06</td>\n",
       "      <td>9.895755e+06</td>\n",
       "      <td>0.006784</td>\n",
       "      <td>0.540576</td>\n",
       "      <td>0.449605</td>\n",
       "      <td>0.580710</td>\n",
       "      <td>3.291978</td>\n",
       "      <td>0.348481</td>\n",
       "      <td>0.122090</td>\n",
       "    </tr>\n",
       "  </tbody>\n",
       "</table>\n",
       "<p>8 rows × 93 columns</p>\n",
       "</div>"
      ],
      "text/plain": [
       "          30850      30851      30852      34507      34508      38357   \\\n",
       "count  42.000000  42.000000  42.000000  42.000000  42.000000  42.000000   \n",
       "mean    0.106051   0.144574   1.624614   0.031429   0.028629   0.957032   \n",
       "std     0.084893   0.073668   7.403657   0.024182   0.031982   0.725442   \n",
       "min     0.002315   0.019278   0.100506   0.000165   0.000379   0.023471   \n",
       "25%     0.048817   0.082748   0.190138   0.015874   0.007126   0.390851   \n",
       "50%     0.081604   0.138968   0.198563   0.029159   0.013613   0.851018   \n",
       "75%     0.159680   0.200614   0.248617   0.042753   0.038489   1.353084   \n",
       "max     0.344186   0.285254  48.322208   0.109360   0.112831   3.197177   \n",
       "\n",
       "          40281      40283      40284       40886   ...      387131  \\\n",
       "count  42.000000  42.000000  42.000000   42.000000  ...   42.000000   \n",
       "mean    0.064171   0.126091   0.407030    5.411845  ...   14.126914   \n",
       "std     0.047737   0.077241   0.763231   24.005184  ...   31.851093   \n",
       "min     0.000978   0.006701   0.000958    0.020924  ...    0.000991   \n",
       "25%     0.026799   0.062349   0.007772    0.050412  ...    0.001129   \n",
       "50%     0.054095   0.117481   0.128689    0.130186  ...    1.316978   \n",
       "75%     0.084591   0.180568   0.436619    0.581731  ...    8.780619   \n",
       "max     0.203536   0.323704   3.825650  150.876226  ...  146.021468   \n",
       "\n",
       "             387175        387183     387309     387310     387311     516817  \\\n",
       "count  4.200000e+01  4.200000e+01  42.000000  42.000000  42.000000  42.000000   \n",
       "mean   2.365623e+05  2.356155e+05   0.006627   0.174559   0.071247   0.211886   \n",
       "std    1.533075e+06  1.526948e+06   0.000446   0.165642   0.142970   0.152682   \n",
       "min    1.465415e-03  4.417104e-03   0.004255   0.007364   0.000009   0.008281   \n",
       "25%    1.525576e-03  5.892675e-03   0.006721   0.039820   0.000556   0.037191   \n",
       "50%    1.884916e+00  6.018320e-01   0.006781   0.115983   0.000588   0.221713   \n",
       "75%    7.760222e+00  4.699959e+00   0.006784   0.294780   0.000614   0.306104   \n",
       "max    9.935468e+06  9.895755e+06   0.006784   0.540576   0.449605   0.580710   \n",
       "\n",
       "          517921     544779     544783  \n",
       "count  42.000000  42.000000  42.000000  \n",
       "mean    1.093543   0.066082   0.020764  \n",
       "std     1.106017   0.100368   0.028729  \n",
       "min     0.001379   0.013292   0.002592  \n",
       "25%     0.003239   0.014315   0.009268  \n",
       "50%     0.852589   0.014338   0.009330  \n",
       "75%     1.770641   0.031161   0.009622  \n",
       "max     3.291978   0.348481   0.122090  \n",
       "\n",
       "[8 rows x 93 columns]"
      ]
     },
     "execution_count": 185,
     "metadata": {},
     "output_type": "execute_result"
    }
   ],
   "source": [
    "abs_diff.describe()"
   ]
  },
  {
   "cell_type": "code",
   "execution_count": 409,
   "metadata": {},
   "outputs": [
    {
     "data": {
      "text/plain": [
       "Text(0, 0.5, 'mean of absolute difference')"
      ]
     },
     "execution_count": 409,
     "metadata": {},
     "output_type": "execute_result"
    },
    {
     "data": {
      "image/png": "[encoded data removed]",
      "text/plain": [
       "<Figure size 432x288 with 1 Axes>"
      ]
     },
     "metadata": {
      "needs_background": "light"
     },
     "output_type": "display_data"
    }
   ],
   "source": [
    "plt.scatter(x =np.arange(93), y = abs_diff.mean())\n",
    "plt.title('scatter plot of mean absolute difference for each tank ')\n",
    "plt.xlabel('93 distinct tanks')\n",
    "plt.ylabel('mean of absolute difference')"
   ]
  },
  {
   "cell_type": "code",
   "execution_count": 410,
   "metadata": {},
   "outputs": [
    {
     "data": {
      "text/plain": [
       "Text(0, 0.5, 'mean of absolute difference')"
      ]
     },
     "execution_count": 410,
     "metadata": {},
     "output_type": "execute_result"
    },
    {
     "data": {
      "image/png": "[encoded data removed]",
      "text/plain": [
       "<Figure size 432x288 with 1 Axes>"
      ]
     },
     "metadata": {
      "needs_background": "light"
     },
     "output_type": "display_data"
    }
   ],
   "source": [
    "plt.scatter(x =np.arange(82), y = abs_diff.iloc[:,:82].mean())\n",
    "plt.title('scatter plot of mean absolute difference for each tank ')\n",
    "plt.xlabel('82 distinct tanks')\n",
    "plt.ylabel('mean of absolute difference')"
   ]
  },
  {
   "cell_type": "code",
   "execution_count": 133,
   "metadata": {},
   "outputs": [
    {
     "data": {
      "text/plain": [
       "Text(0, 0.5, 'total absolute difference')"
      ]
     },
     "execution_count": 133,
     "metadata": {},
     "output_type": "execute_result"
    },
    {
     "data": {
      "image/png": "[encoded data removed]",
      "text/plain": [
       "<Figure size 432x288 with 1 Axes>"
      ]
     },
     "metadata": {
      "needs_background": "light"
     },
     "output_type": "display_data"
    }
   ],
   "source": [
    "plt.scatter(x =np.arange(82), y = total_abs_error[:82])\n",
    "plt.title('scatter plot of total absolute eror for each tank')\n",
    "plt.xlabel('82 distinct tanks')\n",
    "plt.ylabel('total absolute difference')"
   ]
  },
  {
   "cell_type": "code",
   "execution_count": 144,
   "metadata": {},
   "outputs": [
    {
     "name": "stdout",
     "output_type": "stream",
     "text": [
      "10.65936513184208 6.438048424133186\n"
     ]
    }
   ],
   "source": [
    "# why the outiles exits  \n",
    "# include error over time \n",
    "print(np.median(total_abs_error), np.median(abs_total_error))"
   ]
  },
  {
   "cell_type": "code",
   "execution_count": 39,
   "metadata": {},
   "outputs": [
    {
     "data": {
      "text/plain": [
       "30850      0.128158\n",
       "30851      5.374941\n",
       "30852     57.978999\n",
       "34507      1.423215\n",
       "34508      0.838981\n",
       "            ...    \n",
       "387311     3.238532\n",
       "516817     8.533242\n",
       "517921    46.465443\n",
       "544779     3.111010\n",
       "544783     0.436465\n",
       "Length: 93, dtype: float64"
      ]
     },
     "execution_count": 39,
     "metadata": {},
     "output_type": "execute_result"
    }
   ],
   "source": [
    "abs_total_error"
   ]
  },
  {
   "cell_type": "code",
   "execution_count": 40,
   "metadata": {},
   "outputs": [],
   "source": [
    "abs_total_error =pd.DataFrame(abs_total_error)\n",
    "abs_total_error.columns = ['abs_total_error']\n",
    "CT_abs_total_error = abs_total_error.rename_axis('TANK_ID').reset_index()"
   ]
  },
  {
   "cell_type": "code",
   "execution_count": 41,
   "metadata": {},
   "outputs": [
    {
     "data": {
      "text/html": [
       "<div>\n",
       "<style scoped>\n",
       "    .dataframe tbody tr th:only-of-type {\n",
       "        vertical-align: middle;\n",
       "    }\n",
       "\n",
       "    .dataframe tbody tr th {\n",
       "        vertical-align: top;\n",
       "    }\n",
       "\n",
       "    .dataframe thead th {\n",
       "        text-align: right;\n",
       "    }\n",
       "</style>\n",
       "<table border=\"1\" class=\"dataframe\">\n",
       "  <thead>\n",
       "    <tr style=\"text-align: right;\">\n",
       "      <th></th>\n",
       "      <th>TANK_ID</th>\n",
       "      <th>abs_total_error</th>\n",
       "    </tr>\n",
       "  </thead>\n",
       "  <tbody>\n",
       "    <tr>\n",
       "      <th>0</th>\n",
       "      <td>30850</td>\n",
       "      <td>0.128158</td>\n",
       "    </tr>\n",
       "    <tr>\n",
       "      <th>1</th>\n",
       "      <td>30851</td>\n",
       "      <td>5.374941</td>\n",
       "    </tr>\n",
       "    <tr>\n",
       "      <th>2</th>\n",
       "      <td>30852</td>\n",
       "      <td>57.978999</td>\n",
       "    </tr>\n",
       "    <tr>\n",
       "      <th>3</th>\n",
       "      <td>34507</td>\n",
       "      <td>1.423215</td>\n",
       "    </tr>\n",
       "    <tr>\n",
       "      <th>4</th>\n",
       "      <td>34508</td>\n",
       "      <td>0.838981</td>\n",
       "    </tr>\n",
       "    <tr>\n",
       "      <th>...</th>\n",
       "      <td>...</td>\n",
       "      <td>...</td>\n",
       "    </tr>\n",
       "    <tr>\n",
       "      <th>88</th>\n",
       "      <td>387311</td>\n",
       "      <td>3.238532</td>\n",
       "    </tr>\n",
       "    <tr>\n",
       "      <th>89</th>\n",
       "      <td>516817</td>\n",
       "      <td>8.533242</td>\n",
       "    </tr>\n",
       "    <tr>\n",
       "      <th>90</th>\n",
       "      <td>517921</td>\n",
       "      <td>46.465443</td>\n",
       "    </tr>\n",
       "    <tr>\n",
       "      <th>91</th>\n",
       "      <td>544779</td>\n",
       "      <td>3.111010</td>\n",
       "    </tr>\n",
       "    <tr>\n",
       "      <th>92</th>\n",
       "      <td>544783</td>\n",
       "      <td>0.436465</td>\n",
       "    </tr>\n",
       "  </tbody>\n",
       "</table>\n",
       "<p>93 rows × 2 columns</p>\n",
       "</div>"
      ],
      "text/plain": [
       "    TANK_ID  abs_total_error\n",
       "0     30850         0.128158\n",
       "1     30851         5.374941\n",
       "2     30852        57.978999\n",
       "3     34507         1.423215\n",
       "4     34508         0.838981\n",
       "..      ...              ...\n",
       "88   387311         3.238532\n",
       "89   516817         8.533242\n",
       "90   517921        46.465443\n",
       "91   544779         3.111010\n",
       "92   544783         0.436465\n",
       "\n",
       "[93 rows x 2 columns]"
      ]
     },
     "execution_count": 41,
     "metadata": {},
     "output_type": "execute_result"
    }
   ],
   "source": [
    "CT_abs_total_error"
   ]
  },
  {
   "cell_type": "code",
   "execution_count": 42,
   "metadata": {},
   "outputs": [],
   "source": [
    "CT_abs_total_error.to_csv('C:/Users/wanru/OneDrive - Ecolab/Desktop/tlm_analysis/data/processed/08-13-20-CT-abs-total-error.csv',header=True,index=False)\n"
   ]
  },
  {
   "cell_type": "markdown",
   "metadata": {},
   "source": [
    "**Gateway**"
   ]
  },
  {
   "cell_type": "code",
   "execution_count": 191,
   "metadata": {},
   "outputs": [],
   "source": [
    "window_size = 21\n",
    "train_X_all_21,test_X_all_21,train_y_all_21,test_y_all_21,nrow = process_all_tank(GT_features,window_size)"
   ]
  },
  {
   "cell_type": "code",
   "execution_count": 192,
   "metadata": {},
   "outputs": [
    {
     "name": "stdout",
     "output_type": "stream",
     "text": [
      "(695, 21, 128)\n",
      "(42, 21, 128)\n",
      "(695, 128)\n",
      "(42, 128)\n",
      "(758, 128)\n"
     ]
    }
   ],
   "source": [
    "print(train_X_all_21.shape)\n",
    "print(test_X_all_21.shape)\n",
    "print(train_y_all_21.shape)\n",
    "print(test_y_all_21.shape)\n",
    "print(GT_features.shape)"
   ]
  },
  {
   "cell_type": "code",
   "execution_count": 193,
   "metadata": {},
   "outputs": [
    {
     "name": "stdout",
     "output_type": "stream",
     "text": [
      "Train on 625 samples, validate on 70 samples\n",
      "Epoch 1/10\n",
      "625/625 [==============================] - 2s 4ms/step - loss: 3.1729 - val_loss: 2.5875\n",
      "Epoch 2/10\n",
      "625/625 [==============================] - 2s 3ms/step - loss: 2.6498 - val_loss: 2.2000\n",
      "Epoch 3/10\n",
      "625/625 [==============================] - 2s 3ms/step - loss: 2.3255 - val_loss: 1.9926\n",
      "Epoch 4/10\n",
      "625/625 [==============================] - 2s 3ms/step - loss: 2.1391 - val_loss: 1.8441\n",
      "Epoch 5/10\n",
      "625/625 [==============================] - 2s 3ms/step - loss: 2.0213 - val_loss: 1.7463\n",
      "Epoch 6/10\n",
      "625/625 [==============================] - 2s 3ms/step - loss: 1.9417 - val_loss: 1.6842\n",
      "Epoch 7/10\n",
      "625/625 [==============================] - 2s 3ms/step - loss: 1.8892 - val_loss: 1.6451\n",
      "Epoch 8/10\n",
      "625/625 [==============================] - 2s 3ms/step - loss: 1.8538 - val_loss: 1.6108\n",
      "Epoch 9/10\n",
      "625/625 [==============================] - 2s 3ms/step - loss: 1.8311 - val_loss: 1.6021\n",
      "Epoch 10/10\n",
      "625/625 [==============================] - 2s 4ms/step - loss: 1.8158 - val_loss: 1.5877\n",
      "> Compilation Time :  21.29937720298767\n"
     ]
    }
   ],
   "source": [
    "start = time.time()\n",
    "opt = Adam(lr=0.001, clipnorm=1.0)# gradient clipping to avoid exploding gradients\n",
    "GT_model_scaled_21_30batch = Sequential()\n",
    "GT_model_scaled_21_30batch.add(LSTM(256, return_sequences = True, input_shape = (21, 128)))\n",
    "GT_model_scaled_21_30batch.add(Dropout(0.5))\n",
    "GT_model_scaled_21_30batch.add(LSTM(128,input_shape = (21, 128)))\n",
    "GT_model_scaled_21_30batch.add(Dense(128,kernel_regularizer='l2'))# add L2 norm to regularize data, another way to avoid exploding gradients\n",
    "GT_model_scaled_21_30batch.compile(loss = 'mean_absolute_error', optimizer = opt)\n",
    "GT_model_scaled_result_21_30batch = GT_model_scaled_21_30batch.fit(train_X_all_21, train_y_all_21, epochs = 10, batch_size = 30,validation_split=0.1)\n",
    "GT_model_scaled_21_30batch.save_weights('GT_LSTM_window21_30batch.h5')\n",
    "print(\"> Compilation Time : \", time.time() - start)"
   ]
  },
  {
   "cell_type": "code",
   "execution_count": 179,
   "metadata": {},
   "outputs": [
    {
     "name": "stdout",
     "output_type": "stream",
     "text": [
      "Train on 625 samples, validate on 70 samples\n",
      "Epoch 1/40\n",
      "625/625 [==============================] - 6s 9ms/step - loss: 3.1814 - val_loss: 2.5971\n",
      "Epoch 2/40\n",
      "625/625 [==============================] - 3s 5ms/step - loss: 2.6554 - val_loss: 2.2108\n",
      "Epoch 3/40\n",
      "625/625 [==============================] - 3s 4ms/step - loss: 2.3340 - val_loss: 1.9922\n",
      "Epoch 4/40\n",
      "625/625 [==============================] - 3s 4ms/step - loss: 2.1440 - val_loss: 1.8531\n",
      "Epoch 5/40\n",
      "625/625 [==============================] - 3s 5ms/step - loss: 2.0244 - val_loss: 1.7538\n",
      "Epoch 6/40\n",
      "625/625 [==============================] - 3s 5ms/step - loss: 1.9449 - val_loss: 1.6950\n",
      "Epoch 7/40\n",
      "625/625 [==============================] - 3s 4ms/step - loss: 1.8915 - val_loss: 1.6423\n",
      "Epoch 8/40\n",
      "625/625 [==============================] - 3s 4ms/step - loss: 1.8562 - val_loss: 1.6173\n",
      "Epoch 9/40\n",
      "625/625 [==============================] - 3s 4ms/step - loss: 1.8337 - val_loss: 1.5978\n",
      "Epoch 10/40\n",
      "625/625 [==============================] - 3s 4ms/step - loss: 1.8174 - val_loss: 1.5849\n",
      "Epoch 11/40\n",
      "625/625 [==============================] - 3s 4ms/step - loss: 1.8068 - val_loss: 1.5780\n",
      "Epoch 12/40\n",
      "625/625 [==============================] - 3s 4ms/step - loss: 1.7999 - val_loss: 1.5713\n",
      "Epoch 13/40\n",
      "625/625 [==============================] - 3s 4ms/step - loss: 1.7944 - val_loss: 1.5685\n",
      "Epoch 14/40\n",
      "625/625 [==============================] - 2s 4ms/step - loss: 1.7907 - val_loss: 1.5649\n",
      "Epoch 15/40\n",
      "625/625 [==============================] - 3s 4ms/step - loss: 1.7883 - val_loss: 1.5626\n",
      "Epoch 16/40\n",
      "625/625 [==============================] - 2s 4ms/step - loss: 1.7864 - val_loss: 1.5647\n",
      "Epoch 17/40\n",
      "625/625 [==============================] - 3s 4ms/step - loss: 1.7845 - val_loss: 1.5684\n",
      "Epoch 18/40\n",
      "625/625 [==============================] - 3s 4ms/step - loss: 1.7837 - val_loss: 1.5607\n",
      "Epoch 19/40\n",
      "625/625 [==============================] - 2s 4ms/step - loss: 1.7833 - val_loss: 1.5654\n",
      "Epoch 20/40\n",
      "625/625 [==============================] - 2s 4ms/step - loss: 1.7824 - val_loss: 1.5532\n",
      "Epoch 21/40\n",
      "625/625 [==============================] - 2s 4ms/step - loss: 1.7813 - val_loss: 1.5611\n",
      "Epoch 22/40\n",
      "625/625 [==============================] - 2s 4ms/step - loss: 1.7811 - val_loss: 1.5663\n",
      "Epoch 23/40\n",
      "625/625 [==============================] - 3s 4ms/step - loss: 1.7803 - val_loss: 1.5629\n",
      "Epoch 24/40\n",
      "625/625 [==============================] - 2s 4ms/step - loss: 1.7800 - val_loss: 1.5598\n",
      "Epoch 25/40\n",
      "625/625 [==============================] - 3s 4ms/step - loss: 1.7794 - val_loss: 1.5588\n",
      "Epoch 26/40\n",
      "625/625 [==============================] - 3s 4ms/step - loss: 1.7792 - val_loss: 1.5586\n",
      "Epoch 27/40\n",
      "625/625 [==============================] - 3s 4ms/step - loss: 1.7790 - val_loss: 1.5661\n",
      "Epoch 28/40\n",
      "625/625 [==============================] - 3s 4ms/step - loss: 1.7784 - val_loss: 1.5581\n",
      "Epoch 29/40\n",
      "625/625 [==============================] - 3s 4ms/step - loss: 1.7784 - val_loss: 1.5586\n",
      "Epoch 30/40\n",
      "625/625 [==============================] - 2s 4ms/step - loss: 1.7785 - val_loss: 1.5544\n",
      "Epoch 31/40\n",
      "625/625 [==============================] - 3s 4ms/step - loss: 1.7780 - val_loss: 1.5583\n",
      "Epoch 32/40\n",
      "625/625 [==============================] - 3s 4ms/step - loss: 1.7790 - val_loss: 1.5503\n",
      "Epoch 33/40\n",
      "625/625 [==============================] - 3s 5ms/step - loss: 1.7782 - val_loss: 1.5642\n",
      "Epoch 34/40\n",
      "625/625 [==============================] - 3s 5ms/step - loss: 1.7779 - val_loss: 1.5638\n",
      "Epoch 35/40\n",
      "625/625 [==============================] - 3s 5ms/step - loss: 1.7770 - val_loss: 1.5567\n",
      "Epoch 36/40\n",
      "625/625 [==============================] - 3s 5ms/step - loss: 1.7767 - val_loss: 1.5605\n",
      "Epoch 37/40\n",
      "625/625 [==============================] - 3s 4ms/step - loss: 1.7772 - val_loss: 1.5623\n",
      "Epoch 38/40\n",
      "625/625 [==============================] - 3s 5ms/step - loss: 1.7768 - val_loss: 1.5554\n",
      "Epoch 39/40\n",
      "625/625 [==============================] - 3s 5ms/step - loss: 1.7765 - val_loss: 1.5514\n",
      "Epoch 40/40\n",
      "625/625 [==============================] - 3s 5ms/step - loss: 1.7767 - val_loss: 1.5539\n",
      "> Compilation Time :  115.31846475601196\n"
     ]
    }
   ],
   "source": [
    "start = time.time()\n",
    "opt = Adam(lr=0.001, clipnorm=1.0)# gradient clipping to avoid exploding gradients\n",
    "GT_model_scaled_21_30batch = Sequential()\n",
    "GT_model_scaled_21_30batch.add(LSTM(256, return_sequences = True, input_shape = (21, 128)))\n",
    "GT_model_scaled_21_30batch.add(Dropout(0.5))\n",
    "GT_model_scaled_21_30batch.add(LSTM(128,input_shape = (21, 128)))\n",
    "GT_model_scaled_21_30batch.add(Dense(128,kernel_regularizer='l2'))# add L2 norm to regularize data, another way to avoid exploding gradients\n",
    "GT_model_scaled_21_30batch.compile(loss = 'mean_absolute_error', optimizer = opt)\n",
    "GT_model_scaled_result_21_40epoch = GT_model_scaled_21_30batch.fit(train_X_all_21, train_y_all_21, epochs = 40, batch_size = 30,validation_split=0.1)\n",
    "print(\"> Compilation Time : \", time.time() - start)"
   ]
  },
  {
   "cell_type": "code",
   "execution_count": 180,
   "metadata": {},
   "outputs": [
    {
     "data": {
      "image/png": "[encoded data removed]",
      "text/plain": [
       "<Figure size 432x288 with 1 Axes>"
      ]
     },
     "metadata": {
      "needs_background": "light"
     },
     "output_type": "display_data"
    }
   ],
   "source": [
    "plt.plot(GT_model_scaled_result_21_40epoch.history['loss'])\n",
    "plt.plot(GT_model_scaled_result_21_40epoch.history['val_loss'])\n",
    "\n",
    "plt.title('model train v.s. loss')\n",
    "plt.ylabel('loss')\n",
    "plt.xlabel('epoch')\n",
    "plt.legend(['train_21days','validation_21days'], loc='upper right')\n",
    "\n",
    "plt.show()"
   ]
  },
  {
   "cell_type": "code",
   "execution_count": 195,
   "metadata": {},
   "outputs": [],
   "source": [
    "def moving_test_window_preds_GT(n_future_preds):\n",
    "\n",
    "    ''' n_future_preds - Represents the number of future predictions we want to make\n",
    "                         This coincides with the number of windows that we will move forward\n",
    "                         on the test data\n",
    "    '''\n",
    "    preds_moving = []                                    # Use this to store the prediction made on each test window\n",
    "    test_window = test_X_all_21[0,:]\n",
    "    moving_test_window = test_window.reshape(1,test_window.shape[0],test_window.shape[1]) # (1,21,93)\n",
    "    #moving_test_window = [test_window.tolist()]          # Creating the first test window\n",
    "    #moving_test_window = np.array(moving_test_window)    # Making it an numpy array\n",
    "    \n",
    "    for i in range(n_future_preds):\n",
    "        preds_one_step = GT_model_scaled_21_30batch.predict(moving_test_window) # Note that this is already a scaled prediction so no need to rescale this\n",
    "        preds_moving.append(preds_one_step[0,:]) # get the value from the numpy 2D array and append to predictions\n",
    "        preds_one_step = preds_one_step.reshape(1,preds_one_step.shape[0],preds_one_step.shape[1]) # Reshaping the prediction to 3D array for concatenation with moving test window\n",
    "        moving_test_window = np.concatenate((moving_test_window[:,1:,:], preds_one_step), axis=1) # This is the new moving test window, where the first element from the window has been removed and the prediction has been appended to the end\n",
    "        \n",
    "    #preds_moving = scaler.inverse_transform(np.array(preds_moving).reshape(-1,1))\n",
    "    \n",
    "    return np.array(preds_moving)"
   ]
  },
  {
   "cell_type": "code",
   "execution_count": 196,
   "metadata": {},
   "outputs": [],
   "source": [
    "GT_preds = GT_model_scaled_21_30batch.predict(test_X_all_21)\n",
    "GT_actuals = test_y_all_21\n",
    "GT_predictions = moving_test_window_preds_GT(42)"
   ]
  },
  {
   "cell_type": "code",
   "execution_count": 197,
   "metadata": {},
   "outputs": [],
   "source": [
    "GT_Y = GT_features.iloc[nrow+window_size:,]\n",
    "GT_mse = mean_squared_error(GT_Y,GT_predictions)\n",
    "GT_mae =mean_absolute_error(GT_Y,GT_predictions)\n",
    "GT_abs_diff = abs(GT_Y-GT_predictions)\n",
    "GT_diff = GT_Y-GT_predictions\n",
    "GT_total_abs_error = GT_abs_diff.sum(axis=0) \n",
    "GT_abs_total_error = abs(GT_diff.sum(axis=0))"
   ]
  },
  {
   "cell_type": "code",
   "execution_count": 198,
   "metadata": {},
   "outputs": [
    {
     "data": {
      "text/html": [
       "<div>\n",
       "<style scoped>\n",
       "    .dataframe tbody tr th:only-of-type {\n",
       "        vertical-align: middle;\n",
       "    }\n",
       "\n",
       "    .dataframe tbody tr th {\n",
       "        vertical-align: top;\n",
       "    }\n",
       "\n",
       "    .dataframe thead th {\n",
       "        text-align: right;\n",
       "    }\n",
       "</style>\n",
       "<table border=\"1\" class=\"dataframe\">\n",
       "  <thead>\n",
       "    <tr style=\"text-align: right;\">\n",
       "      <th>MeasurementDate</th>\n",
       "      <th>TANK_ID</th>\n",
       "      <th>2020-04-28 00:00:00</th>\n",
       "      <th>2020-04-29 00:00:00</th>\n",
       "      <th>2020-04-30 00:00:00</th>\n",
       "      <th>2020-05-01 00:00:00</th>\n",
       "      <th>2020-05-02 00:00:00</th>\n",
       "      <th>2020-05-03 00:00:00</th>\n",
       "      <th>2020-05-04 00:00:00</th>\n",
       "      <th>2020-05-05 00:00:00</th>\n",
       "      <th>2020-05-06 00:00:00</th>\n",
       "      <th>...</th>\n",
       "      <th>2020-05-30 00:00:00</th>\n",
       "      <th>2020-05-31 00:00:00</th>\n",
       "      <th>2020-06-01 00:00:00</th>\n",
       "      <th>2020-06-02 00:00:00</th>\n",
       "      <th>2020-06-03 00:00:00</th>\n",
       "      <th>2020-06-04 00:00:00</th>\n",
       "      <th>2020-06-05 00:00:00</th>\n",
       "      <th>2020-06-06 00:00:00</th>\n",
       "      <th>2020-06-07 00:00:00</th>\n",
       "      <th>2020-06-08 00:00:00</th>\n",
       "    </tr>\n",
       "  </thead>\n",
       "  <tbody>\n",
       "    <tr>\n",
       "      <th>0</th>\n",
       "      <td>1282</td>\n",
       "      <td>-8.723209</td>\n",
       "      <td>-1.362381</td>\n",
       "      <td>2.558274</td>\n",
       "      <td>2.114485</td>\n",
       "      <td>2.484297</td>\n",
       "      <td>2.743142</td>\n",
       "      <td>-0.215706</td>\n",
       "      <td>-6.170330</td>\n",
       "      <td>-8.167549</td>\n",
       "      <td>...</td>\n",
       "      <td>2.446815</td>\n",
       "      <td>2.039980</td>\n",
       "      <td>-2.065355</td>\n",
       "      <td>2.557770</td>\n",
       "      <td>2.557770</td>\n",
       "      <td>-5.374707</td>\n",
       "      <td>-2.269576</td>\n",
       "      <td>2.483800</td>\n",
       "      <td>2.520785</td>\n",
       "      <td>-285.141226</td>\n",
       "    </tr>\n",
       "    <tr>\n",
       "      <th>1</th>\n",
       "      <td>4730</td>\n",
       "      <td>-0.253639</td>\n",
       "      <td>-0.197429</td>\n",
       "      <td>-0.050662</td>\n",
       "      <td>-0.220005</td>\n",
       "      <td>0.039700</td>\n",
       "      <td>-0.095774</td>\n",
       "      <td>-0.005441</td>\n",
       "      <td>0.028437</td>\n",
       "      <td>-0.231243</td>\n",
       "      <td>...</td>\n",
       "      <td>0.028566</td>\n",
       "      <td>0.141473</td>\n",
       "      <td>-0.022755</td>\n",
       "      <td>0.158922</td>\n",
       "      <td>-0.524675</td>\n",
       "      <td>-0.118212</td>\n",
       "      <td>-0.118212</td>\n",
       "      <td>-0.036098</td>\n",
       "      <td>0.161956</td>\n",
       "      <td>-57.004144</td>\n",
       "    </tr>\n",
       "    <tr>\n",
       "      <th>2</th>\n",
       "      <td>4731</td>\n",
       "      <td>-0.434228</td>\n",
       "      <td>-0.479186</td>\n",
       "      <td>0.164371</td>\n",
       "      <td>0.040168</td>\n",
       "      <td>0.288552</td>\n",
       "      <td>0.074018</td>\n",
       "      <td>0.322401</td>\n",
       "      <td>0.277231</td>\n",
       "      <td>0.051413</td>\n",
       "      <td>...</td>\n",
       "      <td>0.254662</td>\n",
       "      <td>0.356278</td>\n",
       "      <td>-0.050185</td>\n",
       "      <td>-0.185673</td>\n",
       "      <td>-0.084057</td>\n",
       "      <td>0.209499</td>\n",
       "      <td>0.220790</td>\n",
       "      <td>0.302904</td>\n",
       "      <td>0.325217</td>\n",
       "      <td>-29.326432</td>\n",
       "    </tr>\n",
       "    <tr>\n",
       "      <th>3</th>\n",
       "      <td>4732</td>\n",
       "      <td>0.016886</td>\n",
       "      <td>0.010655</td>\n",
       "      <td>0.089733</td>\n",
       "      <td>0.146187</td>\n",
       "      <td>-0.000603</td>\n",
       "      <td>-0.057068</td>\n",
       "      <td>0.213898</td>\n",
       "      <td>0.202600</td>\n",
       "      <td>-0.079672</td>\n",
       "      <td>...</td>\n",
       "      <td>0.146043</td>\n",
       "      <td>0.044427</td>\n",
       "      <td>0.138679</td>\n",
       "      <td>0.017919</td>\n",
       "      <td>0.021846</td>\n",
       "      <td>0.067008</td>\n",
       "      <td>0.100880</td>\n",
       "      <td>0.101907</td>\n",
       "      <td>0.007074</td>\n",
       "      <td>-53.263046</td>\n",
       "    </tr>\n",
       "    <tr>\n",
       "      <th>4</th>\n",
       "      <td>4733</td>\n",
       "      <td>-0.025056</td>\n",
       "      <td>-0.058913</td>\n",
       "      <td>0.155640</td>\n",
       "      <td>-0.318545</td>\n",
       "      <td>-0.013684</td>\n",
       "      <td>0.042778</td>\n",
       "      <td>0.054073</td>\n",
       "      <td>0.347631</td>\n",
       "      <td>-0.070121</td>\n",
       "      <td>...</td>\n",
       "      <td>0.178273</td>\n",
       "      <td>0.212145</td>\n",
       "      <td>0.207726</td>\n",
       "      <td>-0.088284</td>\n",
       "      <td>-0.239481</td>\n",
       "      <td>0.212145</td>\n",
       "      <td>0.065366</td>\n",
       "      <td>0.131057</td>\n",
       "      <td>0.090491</td>\n",
       "      <td>-20.667444</td>\n",
       "    </tr>\n",
       "    <tr>\n",
       "      <th>...</th>\n",
       "      <td>...</td>\n",
       "      <td>...</td>\n",
       "      <td>...</td>\n",
       "      <td>...</td>\n",
       "      <td>...</td>\n",
       "      <td>...</td>\n",
       "      <td>...</td>\n",
       "      <td>...</td>\n",
       "      <td>...</td>\n",
       "      <td>...</td>\n",
       "      <td>...</td>\n",
       "      <td>...</td>\n",
       "      <td>...</td>\n",
       "      <td>...</td>\n",
       "      <td>...</td>\n",
       "      <td>...</td>\n",
       "      <td>...</td>\n",
       "      <td>...</td>\n",
       "      <td>...</td>\n",
       "      <td>...</td>\n",
       "      <td>...</td>\n",
       "    </tr>\n",
       "    <tr>\n",
       "      <th>123</th>\n",
       "      <td>375013</td>\n",
       "      <td>0.003694</td>\n",
       "      <td>-0.504103</td>\n",
       "      <td>-0.594369</td>\n",
       "      <td>-0.345978</td>\n",
       "      <td>0.015306</td>\n",
       "      <td>-0.136888</td>\n",
       "      <td>-0.611596</td>\n",
       "      <td>-0.323448</td>\n",
       "      <td>0.455598</td>\n",
       "      <td>...</td>\n",
       "      <td>-0.210682</td>\n",
       "      <td>-0.142938</td>\n",
       "      <td>-0.233263</td>\n",
       "      <td>-0.075194</td>\n",
       "      <td>-0.109066</td>\n",
       "      <td>-0.210682</td>\n",
       "      <td>-0.413913</td>\n",
       "      <td>-0.628435</td>\n",
       "      <td>-0.199391</td>\n",
       "      <td>-89.619262</td>\n",
       "    </tr>\n",
       "    <tr>\n",
       "      <th>124</th>\n",
       "      <td>375414</td>\n",
       "      <td>-0.004629</td>\n",
       "      <td>-0.004633</td>\n",
       "      <td>-0.004611</td>\n",
       "      <td>-0.004604</td>\n",
       "      <td>-0.004601</td>\n",
       "      <td>-0.004600</td>\n",
       "      <td>-0.004599</td>\n",
       "      <td>-0.004599</td>\n",
       "      <td>-0.004600</td>\n",
       "      <td>...</td>\n",
       "      <td>-0.130407</td>\n",
       "      <td>-0.062693</td>\n",
       "      <td>-0.333547</td>\n",
       "      <td>-0.178774</td>\n",
       "      <td>-0.372240</td>\n",
       "      <td>-0.236814</td>\n",
       "      <td>-0.004653</td>\n",
       "      <td>-0.198120</td>\n",
       "      <td>-0.033673</td>\n",
       "      <td>-60.935149</td>\n",
       "    </tr>\n",
       "    <tr>\n",
       "      <th>125</th>\n",
       "      <td>386783</td>\n",
       "      <td>-0.159800</td>\n",
       "      <td>-0.012966</td>\n",
       "      <td>0.088667</td>\n",
       "      <td>-0.125846</td>\n",
       "      <td>0.145134</td>\n",
       "      <td>-0.182290</td>\n",
       "      <td>-0.182287</td>\n",
       "      <td>0.280631</td>\n",
       "      <td>-0.058087</td>\n",
       "      <td>...</td>\n",
       "      <td>-0.091951</td>\n",
       "      <td>-0.137114</td>\n",
       "      <td>0.054827</td>\n",
       "      <td>-0.204858</td>\n",
       "      <td>0.066117</td>\n",
       "      <td>0.077408</td>\n",
       "      <td>-0.046789</td>\n",
       "      <td>-0.170986</td>\n",
       "      <td>-0.216148</td>\n",
       "      <td>-0.888694</td>\n",
       "    </tr>\n",
       "    <tr>\n",
       "      <th>126</th>\n",
       "      <td>387170</td>\n",
       "      <td>-0.326449</td>\n",
       "      <td>-0.026513</td>\n",
       "      <td>-0.026572</td>\n",
       "      <td>-0.229762</td>\n",
       "      <td>-0.162087</td>\n",
       "      <td>-0.336236</td>\n",
       "      <td>-0.297562</td>\n",
       "      <td>-0.336268</td>\n",
       "      <td>-0.345949</td>\n",
       "      <td>...</td>\n",
       "      <td>-0.336263</td>\n",
       "      <td>-0.665157</td>\n",
       "      <td>-0.713524</td>\n",
       "      <td>-0.104103</td>\n",
       "      <td>-0.220183</td>\n",
       "      <td>-0.094430</td>\n",
       "      <td>-0.055736</td>\n",
       "      <td>-0.258877</td>\n",
       "      <td>-0.171817</td>\n",
       "      <td>-84.014007</td>\n",
       "    </tr>\n",
       "    <tr>\n",
       "      <th>127</th>\n",
       "      <td>543273</td>\n",
       "      <td>0.568479</td>\n",
       "      <td>0.672890</td>\n",
       "      <td>0.644534</td>\n",
       "      <td>0.720317</td>\n",
       "      <td>0.701365</td>\n",
       "      <td>0.748718</td>\n",
       "      <td>0.720295</td>\n",
       "      <td>0.635041</td>\n",
       "      <td>0.824478</td>\n",
       "      <td>...</td>\n",
       "      <td>0.691761</td>\n",
       "      <td>0.814898</td>\n",
       "      <td>0.606512</td>\n",
       "      <td>0.113964</td>\n",
       "      <td>0.559151</td>\n",
       "      <td>0.417070</td>\n",
       "      <td>0.729649</td>\n",
       "      <td>0.379182</td>\n",
       "      <td>0.720177</td>\n",
       "      <td>-65.248251</td>\n",
       "    </tr>\n",
       "  </tbody>\n",
       "</table>\n",
       "<p>128 rows × 43 columns</p>\n",
       "</div>"
      ],
      "text/plain": [
       "MeasurementDate  TANK_ID  2020-04-28 00:00:00  2020-04-29 00:00:00  \\\n",
       "0                   1282            -8.723209            -1.362381   \n",
       "1                   4730            -0.253639            -0.197429   \n",
       "2                   4731            -0.434228            -0.479186   \n",
       "3                   4732             0.016886             0.010655   \n",
       "4                   4733            -0.025056            -0.058913   \n",
       "..                   ...                  ...                  ...   \n",
       "123               375013             0.003694            -0.504103   \n",
       "124               375414            -0.004629            -0.004633   \n",
       "125               386783            -0.159800            -0.012966   \n",
       "126               387170            -0.326449            -0.026513   \n",
       "127               543273             0.568479             0.672890   \n",
       "\n",
       "MeasurementDate  2020-04-30 00:00:00  2020-05-01 00:00:00  \\\n",
       "0                           2.558274             2.114485   \n",
       "1                          -0.050662            -0.220005   \n",
       "2                           0.164371             0.040168   \n",
       "3                           0.089733             0.146187   \n",
       "4                           0.155640            -0.318545   \n",
       "..                               ...                  ...   \n",
       "123                        -0.594369            -0.345978   \n",
       "124                        -0.004611            -0.004604   \n",
       "125                         0.088667            -0.125846   \n",
       "126                        -0.026572            -0.229762   \n",
       "127                         0.644534             0.720317   \n",
       "\n",
       "MeasurementDate  2020-05-02 00:00:00  2020-05-03 00:00:00  \\\n",
       "0                           2.484297             2.743142   \n",
       "1                           0.039700            -0.095774   \n",
       "2                           0.288552             0.074018   \n",
       "3                          -0.000603            -0.057068   \n",
       "4                          -0.013684             0.042778   \n",
       "..                               ...                  ...   \n",
       "123                         0.015306            -0.136888   \n",
       "124                        -0.004601            -0.004600   \n",
       "125                         0.145134            -0.182290   \n",
       "126                        -0.162087            -0.336236   \n",
       "127                         0.701365             0.748718   \n",
       "\n",
       "MeasurementDate  2020-05-04 00:00:00  2020-05-05 00:00:00  \\\n",
       "0                          -0.215706            -6.170330   \n",
       "1                          -0.005441             0.028437   \n",
       "2                           0.322401             0.277231   \n",
       "3                           0.213898             0.202600   \n",
       "4                           0.054073             0.347631   \n",
       "..                               ...                  ...   \n",
       "123                        -0.611596            -0.323448   \n",
       "124                        -0.004599            -0.004599   \n",
       "125                        -0.182287             0.280631   \n",
       "126                        -0.297562            -0.336268   \n",
       "127                         0.720295             0.635041   \n",
       "\n",
       "MeasurementDate  2020-05-06 00:00:00  ...  2020-05-30 00:00:00  \\\n",
       "0                          -8.167549  ...             2.446815   \n",
       "1                          -0.231243  ...             0.028566   \n",
       "2                           0.051413  ...             0.254662   \n",
       "3                          -0.079672  ...             0.146043   \n",
       "4                          -0.070121  ...             0.178273   \n",
       "..                               ...  ...                  ...   \n",
       "123                         0.455598  ...            -0.210682   \n",
       "124                        -0.004600  ...            -0.130407   \n",
       "125                        -0.058087  ...            -0.091951   \n",
       "126                        -0.345949  ...            -0.336263   \n",
       "127                         0.824478  ...             0.691761   \n",
       "\n",
       "MeasurementDate  2020-05-31 00:00:00  2020-06-01 00:00:00  \\\n",
       "0                           2.039980            -2.065355   \n",
       "1                           0.141473            -0.022755   \n",
       "2                           0.356278            -0.050185   \n",
       "3                           0.044427             0.138679   \n",
       "4                           0.212145             0.207726   \n",
       "..                               ...                  ...   \n",
       "123                        -0.142938            -0.233263   \n",
       "124                        -0.062693            -0.333547   \n",
       "125                        -0.137114             0.054827   \n",
       "126                        -0.665157            -0.713524   \n",
       "127                         0.814898             0.606512   \n",
       "\n",
       "MeasurementDate  2020-06-02 00:00:00  2020-06-03 00:00:00  \\\n",
       "0                           2.557770             2.557770   \n",
       "1                           0.158922            -0.524675   \n",
       "2                          -0.185673            -0.084057   \n",
       "3                           0.017919             0.021846   \n",
       "4                          -0.088284            -0.239481   \n",
       "..                               ...                  ...   \n",
       "123                        -0.075194            -0.109066   \n",
       "124                        -0.178774            -0.372240   \n",
       "125                        -0.204858             0.066117   \n",
       "126                        -0.104103            -0.220183   \n",
       "127                         0.113964             0.559151   \n",
       "\n",
       "MeasurementDate  2020-06-04 00:00:00  2020-06-05 00:00:00  \\\n",
       "0                          -5.374707            -2.269576   \n",
       "1                          -0.118212            -0.118212   \n",
       "2                           0.209499             0.220790   \n",
       "3                           0.067008             0.100880   \n",
       "4                           0.212145             0.065366   \n",
       "..                               ...                  ...   \n",
       "123                        -0.210682            -0.413913   \n",
       "124                        -0.236814            -0.004653   \n",
       "125                         0.077408            -0.046789   \n",
       "126                        -0.094430            -0.055736   \n",
       "127                         0.417070             0.729649   \n",
       "\n",
       "MeasurementDate  2020-06-06 00:00:00  2020-06-07 00:00:00  2020-06-08 00:00:00  \n",
       "0                           2.483800             2.520785          -285.141226  \n",
       "1                          -0.036098             0.161956           -57.004144  \n",
       "2                           0.302904             0.325217           -29.326432  \n",
       "3                           0.101907             0.007074           -53.263046  \n",
       "4                           0.131057             0.090491           -20.667444  \n",
       "..                               ...                  ...                  ...  \n",
       "123                        -0.628435            -0.199391           -89.619262  \n",
       "124                        -0.198120            -0.033673           -60.935149  \n",
       "125                        -0.170986            -0.216148            -0.888694  \n",
       "126                        -0.258877            -0.171817           -84.014007  \n",
       "127                         0.379182             0.720177           -65.248251  \n",
       "\n",
       "[128 rows x 43 columns]"
      ]
     },
     "execution_count": 198,
     "metadata": {},
     "output_type": "execute_result"
    }
   ],
   "source": [
    "GT_diff =pd.DataFrame(GT_diff.T)\n",
    "GT_diff = GT_diff.rename_axis('TANK_ID').reset_index()\n",
    "GT_diff"
   ]
  },
  {
   "cell_type": "code",
   "execution_count": 200,
   "metadata": {},
   "outputs": [],
   "source": [
    "GT_abs_total_error =pd.DataFrame(GT_abs_total_error)\n",
    "GT_abs_total_error.columns = ['abs_total_error']\n",
    "GT_abs_total_error = GT_abs_total_error.rename_axis('TANK_ID').reset_index()"
   ]
  },
  {
   "cell_type": "code",
   "execution_count": 210,
   "metadata": {},
   "outputs": [
    {
     "data": {
      "text/html": [
       "<div>\n",
       "<style scoped>\n",
       "    .dataframe tbody tr th:only-of-type {\n",
       "        vertical-align: middle;\n",
       "    }\n",
       "\n",
       "    .dataframe tbody tr th {\n",
       "        vertical-align: top;\n",
       "    }\n",
       "\n",
       "    .dataframe thead th {\n",
       "        text-align: right;\n",
       "    }\n",
       "</style>\n",
       "<table border=\"1\" class=\"dataframe\">\n",
       "  <thead>\n",
       "    <tr style=\"text-align: right;\">\n",
       "      <th></th>\n",
       "      <th>TANK_ID</th>\n",
       "      <th>abs_total_error</th>\n",
       "    </tr>\n",
       "  </thead>\n",
       "  <tbody>\n",
       "    <tr>\n",
       "      <th>0</th>\n",
       "      <td>30850</td>\n",
       "      <td>3.564712</td>\n",
       "    </tr>\n",
       "    <tr>\n",
       "      <th>1</th>\n",
       "      <td>30851</td>\n",
       "      <td>4.603881</td>\n",
       "    </tr>\n",
       "    <tr>\n",
       "      <th>2</th>\n",
       "      <td>30852</td>\n",
       "      <td>56.127638</td>\n",
       "    </tr>\n",
       "    <tr>\n",
       "      <th>3</th>\n",
       "      <td>34507</td>\n",
       "      <td>0.491354</td>\n",
       "    </tr>\n",
       "    <tr>\n",
       "      <th>4</th>\n",
       "      <td>34508</td>\n",
       "      <td>0.136786</td>\n",
       "    </tr>\n",
       "    <tr>\n",
       "      <th>...</th>\n",
       "      <td>...</td>\n",
       "      <td>...</td>\n",
       "    </tr>\n",
       "    <tr>\n",
       "      <th>88</th>\n",
       "      <td>387311</td>\n",
       "      <td>1.978143</td>\n",
       "    </tr>\n",
       "    <tr>\n",
       "      <th>89</th>\n",
       "      <td>516817</td>\n",
       "      <td>8.699191</td>\n",
       "    </tr>\n",
       "    <tr>\n",
       "      <th>90</th>\n",
       "      <td>517921</td>\n",
       "      <td>45.857162</td>\n",
       "    </tr>\n",
       "    <tr>\n",
       "      <th>91</th>\n",
       "      <td>544779</td>\n",
       "      <td>2.743559</td>\n",
       "    </tr>\n",
       "    <tr>\n",
       "      <th>92</th>\n",
       "      <td>544783</td>\n",
       "      <td>0.181139</td>\n",
       "    </tr>\n",
       "  </tbody>\n",
       "</table>\n",
       "<p>93 rows × 2 columns</p>\n",
       "</div>"
      ],
      "text/plain": [
       "    TANK_ID  abs_total_error\n",
       "0     30850         3.564712\n",
       "1     30851         4.603881\n",
       "2     30852        56.127638\n",
       "3     34507         0.491354\n",
       "4     34508         0.136786\n",
       "..      ...              ...\n",
       "88   387311         1.978143\n",
       "89   516817         8.699191\n",
       "90   517921        45.857162\n",
       "91   544779         2.743559\n",
       "92   544783         0.181139\n",
       "\n",
       "[93 rows x 2 columns]"
      ]
     },
     "execution_count": 210,
     "metadata": {},
     "output_type": "execute_result"
    }
   ],
   "source": [
    "CT_abs_total_error"
   ]
  },
  {
   "cell_type": "code",
   "execution_count": 202,
   "metadata": {},
   "outputs": [],
   "source": [
    "GT_abs_total_error.to_csv('C:/Users/wanru/OneDrive - Ecolab/Desktop/tlm_analysis/data/processed/08-11-20-GT-abs-total-error.csv',index=False)\n"
   ]
  },
  {
   "cell_type": "code",
   "execution_count": 42,
   "metadata": {},
   "outputs": [],
   "source": [
    "GT_diff.to_csv('C:/Users/wanru/OneDrive - Ecolab/Desktop/tlm_analysis/data/processed/08-06-20-GT-daily-difference.csv',index=False)\n",
    "diff.to_csv('C:/Users/wanru/OneDrive - Ecolab/Desktop/tlm_analysis/data/processed/08-06-20-CT-daily-difference.csv',index=False)\n"
   ]
  }
 ],
 "metadata": {
  "kernelspec": {
   "display_name": "Python 3",
   "language": "python",
   "name": "python3"
  },
  "language_info": {
   "codemirror_mode": {
    "name": "ipython",
    "version": 3
   },
   "file_extension": ".py",
   "mimetype": "text/x-python",
   "name": "python",
   "nbconvert_exporter": "python",
   "pygments_lexer": "ipython3",
   "version": "3.6.10"
  }
 },
 "nbformat": 4,
 "nbformat_minor": 4
}
